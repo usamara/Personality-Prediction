{
 "cells": [
  {
   "cell_type": "markdown",
   "id": "4a480b43",
   "metadata": {},
   "source": [
    "### Topic : Personality Prediction\n",
    "\n",
    "#### Data Source : https://www.kaggle.com/datasets/datasnaek/mbti-type/data\n",
    "\n",
    "#### About Data File :\n",
    "   The Myers–Briggs Type Indicator (MBTI) is a kind of psychological classification about human’s experience. \n",
    "     using four principal psychological functions, sensation, intuition, feeling, and thinking, \n",
    "        constructed by Katharine Cook Briggs and her daughter Isabel Briggs Myers.\n",
    "   The Myers Briggs Type Indicator (or MBTI for short) is a personality type system that divides everyone. \n",
    "        into 16 distinct personality types across 4 axes:\n",
    "        \n",
    "            * Introversion (I) – Extroversion (E)\n",
    "            * Intuition (N) – Sensing (S)\n",
    "            * Thinking (T) – Feeling (F)\n",
    "            * Judging (J) – Perceiving (P)\n",
    "            "
   ]
  },
  {
   "cell_type": "markdown",
   "id": "a0664db2",
   "metadata": {},
   "source": [
    "### Overview\n",
    "  Organization needs to classify the individuals based on their personality traits. The availability of high dimensional and large amount of date has paved the way for increasing the effectiveness of marketing campaigns by targeting specific people. This will increase the popularity and attractiveness of products and services. Some common examples:\n",
    "  1. Personalizing the online advertisement campaigns.\n",
    "  2. Incorporate a personality-based approach to increase the attractiveness of recommended products.\n",
    "  3. Personality based adaptations can also provide personalized visualization and better music recommendations.\n",
    "  \n",
    "  * In this project we will use machine learning to evaluate the MBTIs validity and ability to predict language styles and behaviour online."
   ]
  },
  {
   "cell_type": "code",
   "execution_count": 11,
   "id": "5f173c26",
   "metadata": {},
   "outputs": [
    {
     "name": "stdout",
     "output_type": "stream",
     "text": [
      "Requirement already satisfied: xgboost in /Users/rajibsamanta/miniconda3/lib/python3.11/site-packages (2.0.2)\r\n",
      "Requirement already satisfied: numpy in /Users/rajibsamanta/miniconda3/lib/python3.11/site-packages (from xgboost) (1.26.2)\r\n",
      "Requirement already satisfied: scipy in /Users/rajibsamanta/miniconda3/lib/python3.11/site-packages (from xgboost) (1.11.3)\r\n"
     ]
    }
   ],
   "source": [
    "!pip install xgboost"
   ]
  },
  {
   "cell_type": "code",
   "execution_count": 12,
   "id": "0890ed30",
   "metadata": {},
   "outputs": [],
   "source": [
    "# Import Libraries\n",
    "# Import Libraries\n",
    "import pandas as pd\n",
    "import os\n",
    "import numpy as np\n",
    "#pip install textblob\n",
    "from textblob import TextBlob\n",
    "# pip install vaderSentiment\n",
    "from vaderSentiment.vaderSentiment import SentimentIntensityAnalyzer\n",
    "import re\n",
    "# pip install nltk\n",
    "import nltk\n",
    "from nltk.corpus import stopwords\n",
    "import wordcloud\n",
    "from wordcloud import WordCloud, STOPWORDS\n",
    "import collections\n",
    "from collections import Counter\n",
    "from nltk.stem import PorterStemmer\n",
    "from sklearn.model_selection import train_test_split\n",
    "from sklearn.feature_extraction.text import CountVectorizer\n",
    "from sklearn.feature_extraction.text import TfidfVectorizer\n",
    "from sklearn.linear_model import LogisticRegression\n",
    "from sklearn.metrics import accuracy_score\n",
    "from sklearn.metrics import accuracy_score, confusion_matrix\n",
    "import matplotlib.pyplot as plt\n",
    "import seaborn as sns\n",
    "from sklearn.metrics import classification_report\n",
    "from sklearn.metrics import roc_curve, roc_auc_score\n",
    "from sklearn.svm import SVC\n",
    "from sklearn.preprocessing import LabelEncoder  #encoding categorical data to numerical\n",
    "from sklearn.ensemble import RandomForestClassifier, GradientBoostingClassifier\n",
    "from xgboost import XGBClassifier\n",
    "from sklearn.linear_model import SGDClassifier\n",
    "from nltk.stem import PorterStemmer, WordNetLemmatizer\n",
    "from sklearn.feature_extraction.text import CountVectorizer\n",
    "from sklearn.feature_extraction.text import TfidfTransformer"
   ]
  },
  {
   "cell_type": "code",
   "execution_count": 13,
   "id": "2ce7c2a9",
   "metadata": {},
   "outputs": [],
   "source": [
    "#!pip install --upgrade scikit-learn"
   ]
  },
  {
   "cell_type": "code",
   "execution_count": 14,
   "id": "01241f97",
   "metadata": {},
   "outputs": [
    {
     "name": "stdout",
     "output_type": "stream",
     "text": [
      "/Users/rajibsamanta/Documents/Rajib/College/Sem6_fall_2023/Week6\n"
     ]
    },
    {
     "data": {
      "text/html": [
       "<div>\n",
       "<style scoped>\n",
       "    .dataframe tbody tr th:only-of-type {\n",
       "        vertical-align: middle;\n",
       "    }\n",
       "\n",
       "    .dataframe tbody tr th {\n",
       "        vertical-align: top;\n",
       "    }\n",
       "\n",
       "    .dataframe thead th {\n",
       "        text-align: right;\n",
       "    }\n",
       "</style>\n",
       "<table border=\"1\" class=\"dataframe\">\n",
       "  <thead>\n",
       "    <tr style=\"text-align: right;\">\n",
       "      <th></th>\n",
       "      <th>type</th>\n",
       "      <th>posts</th>\n",
       "    </tr>\n",
       "  </thead>\n",
       "  <tbody>\n",
       "    <tr>\n",
       "      <th>0</th>\n",
       "      <td>INFJ</td>\n",
       "      <td>'http://www.youtube.com/watch?v=qsXHcwe3krw|||...</td>\n",
       "    </tr>\n",
       "    <tr>\n",
       "      <th>1</th>\n",
       "      <td>ENTP</td>\n",
       "      <td>'I'm finding the lack of me in these posts ver...</td>\n",
       "    </tr>\n",
       "    <tr>\n",
       "      <th>2</th>\n",
       "      <td>INTP</td>\n",
       "      <td>'Good one  _____   https://www.youtube.com/wat...</td>\n",
       "    </tr>\n",
       "    <tr>\n",
       "      <th>3</th>\n",
       "      <td>INTJ</td>\n",
       "      <td>'Dear INTP,   I enjoyed our conversation the o...</td>\n",
       "    </tr>\n",
       "    <tr>\n",
       "      <th>4</th>\n",
       "      <td>ENTJ</td>\n",
       "      <td>'You're fired.|||That's another silly misconce...</td>\n",
       "    </tr>\n",
       "  </tbody>\n",
       "</table>\n",
       "</div>"
      ],
      "text/plain": [
       "   type                                              posts\n",
       "0  INFJ  'http://www.youtube.com/watch?v=qsXHcwe3krw|||...\n",
       "1  ENTP  'I'm finding the lack of me in these posts ver...\n",
       "2  INTP  'Good one  _____   https://www.youtube.com/wat...\n",
       "3  INTJ  'Dear INTP,   I enjoyed our conversation the o...\n",
       "4  ENTJ  'You're fired.|||That's another silly misconce..."
      ]
     },
     "execution_count": 14,
     "metadata": {},
     "output_type": "execute_result"
    }
   ],
   "source": [
    "# Read the  dataset  file ('mbti_1.csv') from local:\n",
    "directory = '/Users/rajibsamanta/Documents/Rajib/College/Sem6_fall_2023/Week6' \n",
    "# Set the working directory\n",
    "os.chdir(directory)\n",
    "print(os.getcwd())\n",
    "# 1. Import the movie review data as a data frame and ensure that the data is loaded properly.\n",
    "\n",
    "file_name = \"mbti_1.csv\"\n",
    "\n",
    "# Load the dataset into a pandas DataFrame\n",
    "df = pd.read_csv(file_name, delimiter=',')\n",
    "\n",
    "# Display few records.\n",
    "df.head()"
   ]
  },
  {
   "cell_type": "code",
   "execution_count": 15,
   "id": "7dc50518",
   "metadata": {},
   "outputs": [
    {
     "name": "stdout",
     "output_type": "stream",
     "text": [
      "<class 'pandas.core.frame.DataFrame'>\n",
      "RangeIndex: 8675 entries, 0 to 8674\n",
      "Data columns (total 2 columns):\n",
      " #   Column  Non-Null Count  Dtype \n",
      "---  ------  --------------  ----- \n",
      " 0   type    8675 non-null   object\n",
      " 1   posts   8675 non-null   object\n",
      "dtypes: object(2)\n",
      "memory usage: 135.7+ KB\n"
     ]
    }
   ],
   "source": [
    "# Describe the data \n",
    "df.info()"
   ]
  },
  {
   "cell_type": "markdown",
   "id": "7e33d1de",
   "metadata": {},
   "source": [
    "    There are only 2 columns in the dataset\n",
    "    Total no. of rows are 8675\n",
    "    There are no null values present in the dataset\n",
    "    One Disadvantage is that all values are textual, hence they have to be converted to numerical form \n",
    "    to train the ML model"
   ]
  },
  {
   "cell_type": "code",
   "execution_count": 16,
   "id": "ff924033",
   "metadata": {},
   "outputs": [
    {
     "data": {
      "text/plain": [
       "array(['INFJ', 'ENTP', 'INTP', 'INTJ', 'ENTJ', 'ENFJ', 'INFP', 'ENFP',\n",
       "       'ISFP', 'ISTP', 'ISFJ', 'ISTJ', 'ESTP', 'ESFP', 'ESTJ', 'ESFJ'],\n",
       "      dtype=object)"
      ]
     },
     "execution_count": 16,
     "metadata": {},
     "output_type": "execute_result"
    }
   ],
   "source": [
    "#displays unique values in type column\n",
    "df['type'].unique()   "
   ]
  },
  {
   "cell_type": "markdown",
   "id": "f6e1e8a5",
   "metadata": {},
   "source": [
    "* It has 16 distinct personality types"
   ]
  },
  {
   "cell_type": "code",
   "execution_count": 17,
   "id": "7bca7c87",
   "metadata": {},
   "outputs": [
    {
     "data": {
      "text/plain": [
       "Text(0.5, 1.0, 'Total posts for each personality type')"
      ]
     },
     "execution_count": 17,
     "metadata": {},
     "output_type": "execute_result"
    },
    {
     "data": {
      "image/png": "[encoded data removed]",
      "text/plain": [
       "<Figure size 1200x400 with 1 Axes>"
      ]
     },
     "metadata": {},
     "output_type": "display_data"
    }
   ],
   "source": [
    "# Data visualization for no. of posts for each personality type\n",
    "# Group by the data using type\n",
    "df_total = df.groupby(['type']).count()\n",
    "\n",
    "plt.figure(figsize = (12,4))\n",
    "plt.bar(np.array(df_total.index), height = df_total['posts'],)\n",
    "plt.xlabel('Personality types', size = 14)\n",
    "plt.ylabel('No. of posts available', size = 14)\n",
    "plt.title('Total posts for each personality type')"
   ]
  },
  {
   "cell_type": "markdown",
   "id": "3f3251c0",
   "metadata": {},
   "source": [
    "We observe that some of the personality types has a lot more data than others, the most common Kaggle users personality is INFP (Introvert Intuition Feeling Perceiving).\n",
    "We can consider for now that users who comment on social media more frequently are more intoverted, perceptive, and emotional."
   ]
  },
  {
   "cell_type": "code",
   "execution_count": 18,
   "id": "1d023187",
   "metadata": {},
   "outputs": [
    {
     "data": {
      "text/html": [
       "<div>\n",
       "<style scoped>\n",
       "    .dataframe tbody tr th:only-of-type {\n",
       "        vertical-align: middle;\n",
       "    }\n",
       "\n",
       "    .dataframe tbody tr th {\n",
       "        vertical-align: top;\n",
       "    }\n",
       "\n",
       "    .dataframe thead th {\n",
       "        text-align: right;\n",
       "    }\n",
       "</style>\n",
       "<table border=\"1\" class=\"dataframe\">\n",
       "  <thead>\n",
       "    <tr style=\"text-align: right;\">\n",
       "      <th></th>\n",
       "      <th>type</th>\n",
       "      <th>posts</th>\n",
       "      <th>words_per_comment</th>\n",
       "      <th>variance_of_word_counts</th>\n",
       "    </tr>\n",
       "  </thead>\n",
       "  <tbody>\n",
       "    <tr>\n",
       "      <th>0</th>\n",
       "      <td>INFJ</td>\n",
       "      <td>'http://www.youtube.com/watch?v=qsXHcwe3krw|||...</td>\n",
       "      <td>11.12</td>\n",
       "      <td>135.2900</td>\n",
       "    </tr>\n",
       "    <tr>\n",
       "      <th>1</th>\n",
       "      <td>ENTP</td>\n",
       "      <td>'I'm finding the lack of me in these posts ver...</td>\n",
       "      <td>23.40</td>\n",
       "      <td>187.4756</td>\n",
       "    </tr>\n",
       "    <tr>\n",
       "      <th>2</th>\n",
       "      <td>INTP</td>\n",
       "      <td>'Good one  _____   https://www.youtube.com/wat...</td>\n",
       "      <td>16.72</td>\n",
       "      <td>180.6900</td>\n",
       "    </tr>\n",
       "    <tr>\n",
       "      <th>3</th>\n",
       "      <td>INTJ</td>\n",
       "      <td>'Dear INTP,   I enjoyed our conversation the o...</td>\n",
       "      <td>21.28</td>\n",
       "      <td>181.8324</td>\n",
       "    </tr>\n",
       "    <tr>\n",
       "      <th>4</th>\n",
       "      <td>ENTJ</td>\n",
       "      <td>'You're fired.|||That's another silly misconce...</td>\n",
       "      <td>19.34</td>\n",
       "      <td>196.4576</td>\n",
       "    </tr>\n",
       "  </tbody>\n",
       "</table>\n",
       "</div>"
      ],
      "text/plain": [
       "   type                                              posts  words_per_comment  \\\n",
       "0  INFJ  'http://www.youtube.com/watch?v=qsXHcwe3krw|||...              11.12   \n",
       "1  ENTP  'I'm finding the lack of me in these posts ver...              23.40   \n",
       "2  INTP  'Good one  _____   https://www.youtube.com/wat...              16.72   \n",
       "3  INTJ  'Dear INTP,   I enjoyed our conversation the o...              21.28   \n",
       "4  ENTJ  'You're fired.|||That's another silly misconce...              19.34   \n",
       "\n",
       "   variance_of_word_counts  \n",
       "0                 135.2900  \n",
       "1                 187.4756  \n",
       "2                 180.6900  \n",
       "3                 181.8324  \n",
       "4                 196.4576  "
      ]
     },
     "execution_count": 18,
     "metadata": {},
     "output_type": "execute_result"
    }
   ],
   "source": [
    "#This function counts the no of words in each post of a user\n",
    "def var_row(row):\n",
    "    l = []\n",
    "    for i in row.split('|||'):\n",
    "        l.append(len(i.split()))\n",
    "    return np.var(l)\n",
    "\n",
    "#this function counts the no of words per post out of the total 50 posts in the whole row\n",
    "df['words_per_comment'] = df['posts'].apply(lambda x: len(x.split())/50)\n",
    "df['variance_of_word_counts'] = df['posts'].apply(lambda x: var_row(x))\n",
    "df.head()"
   ]
  },
  {
   "cell_type": "markdown",
   "id": "5c66d402",
   "metadata": {},
   "source": [
    "Since the original dataset only came with 2 features, the Type and 50 posts for each person, lets create additional features for exploring & analysing our dataset.Added two more parameter words per comments and Variance of words\n"
   ]
  },
  {
   "cell_type": "code",
   "execution_count": 19,
   "id": "ff4b1d55",
   "metadata": {},
   "outputs": [
    {
     "name": "stderr",
     "output_type": "stream",
     "text": [
      "/var/folders/s5/r__yh4p17f12tlyfs6w_46xm0000gn/T/ipykernel_62212/2183922515.py:3: UserWarning: \n",
      "\n",
      "`distplot` is a deprecated function and will be removed in seaborn v0.14.0.\n",
      "\n",
      "Please adapt your code to use either `displot` (a figure-level function with\n",
      "similar flexibility) or `histplot` (an axes-level function for histograms).\n",
      "\n",
      "For a guide to updating your code to use the new functions, please see\n",
      "https://gist.github.com/mwaskom/de44147ed2974457ad6372750bbe5751\n",
      "\n",
      "  sns.distplot(df[\"length_posts\"]).set_title(\"Distribution of Lengths of all 50 Posts\")\n"
     ]
    },
    {
     "data": {
      "text/plain": [
       "Text(0.5, 1.0, 'Distribution of Lengths of all 50 Posts')"
      ]
     },
     "execution_count": 19,
     "metadata": {},
     "output_type": "execute_result"
    },
    {
     "data": {
      "image/png": "[encoded data removed]",
      "text/plain": [
       "<Figure size 640x480 with 1 Axes>"
      ]
     },
     "metadata": {},
     "output_type": "display_data"
    }
   ],
   "source": [
    "# Add length of the post \n",
    "df[\"length_posts\"] = df[\"posts\"].apply(len)\n",
    "sns.distplot(df[\"length_posts\"]).set_title(\"Distribution of Lengths of all 50 Posts\")"
   ]
  },
  {
   "cell_type": "markdown",
   "id": "f27bc692",
   "metadata": {},
   "source": [
    "We can see that most no of lengthly posts have between 7000-9000 words"
   ]
  },
  {
   "cell_type": "code",
   "execution_count": 20,
   "id": "d353822d",
   "metadata": {},
   "outputs": [
    {
     "data": {
      "text/plain": [
       "[('I', 387957),\n",
       " ('to', 290168),\n",
       " ('the', 270699),\n",
       " ('a', 230918),\n",
       " ('and', 219498),\n",
       " ('of', 177853),\n",
       " ('is', 128804),\n",
       " ('you', 128750),\n",
       " ('that', 127221),\n",
       " ('in', 117263),\n",
       " ('my', 104561),\n",
       " ('it', 93101),\n",
       " ('for', 83057),\n",
       " ('have', 79784),\n",
       " ('with', 77131),\n",
       " ('but', 74729),\n",
       " ('be', 69317),\n",
       " ('are', 65034),\n",
       " ('like', 61390),\n",
       " ('not', 59496)]"
      ]
     },
     "execution_count": 20,
     "metadata": {},
     "output_type": "execute_result"
    }
   ],
   "source": [
    "#Finding the most common words in all posts.Top 20\n",
    "words = list(df[\"posts\"].apply(lambda x: x.split()))\n",
    "words = [x for y in words for x in y]\n",
    "Counter(words).most_common(20) "
   ]
  },
  {
   "cell_type": "code",
   "execution_count": 21,
   "id": "a540b787",
   "metadata": {},
   "outputs": [
    {
     "data": {
      "text/html": [
       "<div>\n",
       "<style scoped>\n",
       "    .dataframe tbody tr th:only-of-type {\n",
       "        vertical-align: middle;\n",
       "    }\n",
       "\n",
       "    .dataframe tbody tr th {\n",
       "        vertical-align: top;\n",
       "    }\n",
       "\n",
       "    .dataframe thead th {\n",
       "        text-align: right;\n",
       "    }\n",
       "</style>\n",
       "<table border=\"1\" class=\"dataframe\">\n",
       "  <thead>\n",
       "    <tr style=\"text-align: right;\">\n",
       "      <th></th>\n",
       "      <th>Word</th>\n",
       "      <th>Count</th>\n",
       "    </tr>\n",
       "  </thead>\n",
       "  <tbody>\n",
       "    <tr>\n",
       "      <th>0</th>\n",
       "      <td>I</td>\n",
       "      <td>387957</td>\n",
       "    </tr>\n",
       "    <tr>\n",
       "      <th>1</th>\n",
       "      <td>to</td>\n",
       "      <td>290168</td>\n",
       "    </tr>\n",
       "    <tr>\n",
       "      <th>2</th>\n",
       "      <td>the</td>\n",
       "      <td>270699</td>\n",
       "    </tr>\n",
       "    <tr>\n",
       "      <th>3</th>\n",
       "      <td>a</td>\n",
       "      <td>230918</td>\n",
       "    </tr>\n",
       "    <tr>\n",
       "      <th>4</th>\n",
       "      <td>and</td>\n",
       "      <td>219498</td>\n",
       "    </tr>\n",
       "  </tbody>\n",
       "</table>\n",
       "</div>"
      ],
      "text/plain": [
       "  Word   Count\n",
       "0    I  387957\n",
       "1   to  290168\n",
       "2  the  270699\n",
       "3    a  230918\n",
       "4  and  219498"
      ]
     },
     "execution_count": 21,
     "metadata": {},
     "output_type": "execute_result"
    }
   ],
   "source": [
    "\n",
    "# Convert the list to a DataFrame\n",
    "df_words = pd.DataFrame(Counter(words).most_common(20) , columns=['Word', 'Count'])\n",
    "df_words.head()\n"
   ]
  },
  {
   "cell_type": "code",
   "execution_count": 22,
   "id": "fd1fc94a",
   "metadata": {},
   "outputs": [
    {
     "data": {
      "text/plain": [
       "Text(0.5, 1.0, 'Posts with Common word count')"
      ]
     },
     "execution_count": 22,
     "metadata": {},
     "output_type": "execute_result"
    },
    {
     "data": {
      "image/png": "[encoded data removed]",
      "text/plain": [
       "<Figure size 1200x400 with 1 Axes>"
      ]
     },
     "metadata": {},
     "output_type": "display_data"
    }
   ],
   "source": [
    "# Barplot for commonly used words.\n",
    "plt.figure(figsize = (12,4))\n",
    "plt.bar(df_words['Word'], height = df_words['Count'],)\n",
    "plt.xlabel('Word', size = 14)\n",
    "plt.ylabel('Common Word Count', size = 14)\n",
    "plt.title('Posts with Common word count')"
   ]
  },
  {
   "cell_type": "markdown",
   "id": "a91df91f",
   "metadata": {},
   "source": [
    "#### Next Steps:\n",
    "#### Feature Engineering:\n",
    "    Convert the text data into numerical features that machine learning models can understand. \n",
    "#### Label Encoding:\n",
    "    Encode the categorical MBTI personality types into numerical labels. For example, convert \"INFP\" to 1,\n",
    "    \"ENFJ\" to 2, and so on.\n",
    "#### Data Splitting:\n",
    "    Split the dataset into training, validation, and test sets. \n",
    "#### Model Selection:\n",
    "    Choose a machine learning model suitable for text classification tasks. Common choices include logistic regression, support vector machines, random forests, and neural networks\n",
    "#### Model Training:\n",
    "    Train the selected model on the training dataset using the prepared text features and the corresponding MBTI labels."
   ]
  },
  {
   "cell_type": "code",
   "execution_count": 23,
   "id": "bf2ffd31",
   "metadata": {},
   "outputs": [
    {
     "data": {
      "text/html": [
       "<div>\n",
       "<style scoped>\n",
       "    .dataframe tbody tr th:only-of-type {\n",
       "        vertical-align: middle;\n",
       "    }\n",
       "\n",
       "    .dataframe tbody tr th {\n",
       "        vertical-align: top;\n",
       "    }\n",
       "\n",
       "    .dataframe thead th {\n",
       "        text-align: right;\n",
       "    }\n",
       "</style>\n",
       "<table border=\"1\" class=\"dataframe\">\n",
       "  <thead>\n",
       "    <tr style=\"text-align: right;\">\n",
       "      <th></th>\n",
       "      <th>type</th>\n",
       "      <th>posts</th>\n",
       "      <th>words_per_comment</th>\n",
       "      <th>variance_of_word_counts</th>\n",
       "      <th>length_posts</th>\n",
       "    </tr>\n",
       "  </thead>\n",
       "  <tbody>\n",
       "    <tr>\n",
       "      <th>0</th>\n",
       "      <td>INFJ</td>\n",
       "      <td>'http://www.youtube.com/watch?v=qsXHcwe3krw|||...</td>\n",
       "      <td>11.12</td>\n",
       "      <td>135.2900</td>\n",
       "      <td>4652</td>\n",
       "    </tr>\n",
       "    <tr>\n",
       "      <th>1</th>\n",
       "      <td>ENTP</td>\n",
       "      <td>'I'm finding the lack of me in these posts ver...</td>\n",
       "      <td>23.40</td>\n",
       "      <td>187.4756</td>\n",
       "      <td>7053</td>\n",
       "    </tr>\n",
       "    <tr>\n",
       "      <th>2</th>\n",
       "      <td>INTP</td>\n",
       "      <td>'Good one  _____   https://www.youtube.com/wat...</td>\n",
       "      <td>16.72</td>\n",
       "      <td>180.6900</td>\n",
       "      <td>5265</td>\n",
       "    </tr>\n",
       "    <tr>\n",
       "      <th>3</th>\n",
       "      <td>INTJ</td>\n",
       "      <td>'Dear INTP,   I enjoyed our conversation the o...</td>\n",
       "      <td>21.28</td>\n",
       "      <td>181.8324</td>\n",
       "      <td>6271</td>\n",
       "    </tr>\n",
       "    <tr>\n",
       "      <th>4</th>\n",
       "      <td>ENTJ</td>\n",
       "      <td>'You're fired.|||That's another silly misconce...</td>\n",
       "      <td>19.34</td>\n",
       "      <td>196.4576</td>\n",
       "      <td>6111</td>\n",
       "    </tr>\n",
       "    <tr>\n",
       "      <th>5</th>\n",
       "      <td>INTJ</td>\n",
       "      <td>'18/37 @.@|||Science  is not perfect. No scien...</td>\n",
       "      <td>29.82</td>\n",
       "      <td>97.7200</td>\n",
       "      <td>8589</td>\n",
       "    </tr>\n",
       "    <tr>\n",
       "      <th>6</th>\n",
       "      <td>INFJ</td>\n",
       "      <td>'No, I can't draw on my own nails (haha). Thos...</td>\n",
       "      <td>26.58</td>\n",
       "      <td>151.3664</td>\n",
       "      <td>7916</td>\n",
       "    </tr>\n",
       "    <tr>\n",
       "      <th>7</th>\n",
       "      <td>INTJ</td>\n",
       "      <td>'I tend to build up a collection of things on ...</td>\n",
       "      <td>24.46</td>\n",
       "      <td>174.7664</td>\n",
       "      <td>6900</td>\n",
       "    </tr>\n",
       "    <tr>\n",
       "      <th>8</th>\n",
       "      <td>INFJ</td>\n",
       "      <td>I'm not sure, that's a good question. The dist...</td>\n",
       "      <td>14.76</td>\n",
       "      <td>207.1124</td>\n",
       "      <td>5325</td>\n",
       "    </tr>\n",
       "    <tr>\n",
       "      <th>9</th>\n",
       "      <td>INTP</td>\n",
       "      <td>'https://www.youtube.com/watch?v=w8-egj0y8Qs||...</td>\n",
       "      <td>24.66</td>\n",
       "      <td>145.6704</td>\n",
       "      <td>7573</td>\n",
       "    </tr>\n",
       "  </tbody>\n",
       "</table>\n",
       "</div>"
      ],
      "text/plain": [
       "   type                                              posts  words_per_comment  \\\n",
       "0  INFJ  'http://www.youtube.com/watch?v=qsXHcwe3krw|||...              11.12   \n",
       "1  ENTP  'I'm finding the lack of me in these posts ver...              23.40   \n",
       "2  INTP  'Good one  _____   https://www.youtube.com/wat...              16.72   \n",
       "3  INTJ  'Dear INTP,   I enjoyed our conversation the o...              21.28   \n",
       "4  ENTJ  'You're fired.|||That's another silly misconce...              19.34   \n",
       "5  INTJ  '18/37 @.@|||Science  is not perfect. No scien...              29.82   \n",
       "6  INFJ  'No, I can't draw on my own nails (haha). Thos...              26.58   \n",
       "7  INTJ  'I tend to build up a collection of things on ...              24.46   \n",
       "8  INFJ  I'm not sure, that's a good question. The dist...              14.76   \n",
       "9  INTP  'https://www.youtube.com/watch?v=w8-egj0y8Qs||...              24.66   \n",
       "\n",
       "   variance_of_word_counts  length_posts  \n",
       "0                 135.2900          4652  \n",
       "1                 187.4756          7053  \n",
       "2                 180.6900          5265  \n",
       "3                 181.8324          6271  \n",
       "4                 196.4576          6111  \n",
       "5                  97.7200          8589  \n",
       "6                 151.3664          7916  \n",
       "7                 174.7664          6900  \n",
       "8                 207.1124          5325  \n",
       "9                 145.6704          7573  "
      ]
     },
     "execution_count": 23,
     "metadata": {},
     "output_type": "execute_result"
    }
   ],
   "source": [
    "# Print dataset\n",
    "\n",
    "df.head(10)"
   ]
  },
  {
   "cell_type": "markdown",
   "id": "3154fe22",
   "metadata": {},
   "source": [
    "#### Counting the no. of users and posts in the given MBTI Kaggle dataset"
   ]
  },
  {
   "cell_type": "code",
   "execution_count": 24,
   "id": "1bd46c4d",
   "metadata": {},
   "outputs": [
    {
     "name": "stderr",
     "output_type": "stream",
     "text": [
      "/var/folders/s5/r__yh4p17f12tlyfs6w_46xm0000gn/T/ipykernel_62212/4195799907.py:2: FutureWarning: Series.__getitem__ treating keys as positions is deprecated. In a future version, integer keys will always be treated as labels (consistent with DataFrame behavior). To access a value by position, use `ser.iloc[pos]`\n",
      "  for post in posts[1].split(\"|||\"):\n",
      "/var/folders/s5/r__yh4p17f12tlyfs6w_46xm0000gn/T/ipykernel_62212/4195799907.py:3: FutureWarning: Series.__getitem__ treating keys as positions is deprecated. In a future version, integer keys will always be treated as labels (consistent with DataFrame behavior). To access a value by position, use `ser.iloc[pos]`\n",
      "  new_posts.append((posts[0], post))\n"
     ]
    },
    {
     "name": "stdout",
     "output_type": "stream",
     "text": [
      "Number of users 8675\n",
      "Number of posts 422845\n",
      "5 posts from start are:\n"
     ]
    },
    {
     "data": {
      "text/plain": [
       "[('INFJ', \"'http://www.youtube.com/watch?v=qsXHcwe3krw\"),\n",
       " ('INFJ', 'http://41.media.tumblr.com/tumblr_lfouy03PMA1qa1rooo1_500.jpg'),\n",
       " ('INFJ',\n",
       "  'enfp and intj moments  https://www.youtube.com/watch?v=iz7lE1g4XM4  sportscenter not top ten plays  https://www.youtube.com/watch?v=uCdfze1etec  pranks'),\n",
       " ('INFJ', 'What has been the most life-changing experience in your life?'),\n",
       " ('INFJ',\n",
       "  'http://www.youtube.com/watch?v=vXZeYwwRDw8   http://www.youtube.com/watch?v=u8ejam5DP3E  On repeat for most of today.')]"
      ]
     },
     "execution_count": 24,
     "metadata": {},
     "output_type": "execute_result"
    }
   ],
   "source": [
    "def extract(posts, new_posts):\n",
    "    for post in posts[1].split(\"|||\"):\n",
    "        new_posts.append((posts[0], post))\n",
    "\n",
    "posts = []\n",
    "df.apply(lambda x: extract(x, posts), axis=1)\n",
    "print(\"Number of users\", len(df))\n",
    "print(\"Number of posts\", len(posts))\n",
    "print(\"5 posts from start are:\")\n",
    "posts[0:5]"
   ]
  },
  {
   "cell_type": "markdown",
   "id": "69ab80dd",
   "metadata": {},
   "source": [
    "* It is inferenced that a lot of hyperlinks are presnt in these posts\n",
    "* It is safe to assume that url links do not provide any real information about a user's personality, hence, we need to clean our dataset for these too."
   ]
  },
  {
   "cell_type": "markdown",
   "id": "53fe9de5",
   "metadata": {},
   "source": [
    "#### Data cleaning & Pre-Processing :"
   ]
  },
  {
   "cell_type": "code",
   "execution_count": 25,
   "id": "d1b1ec04",
   "metadata": {},
   "outputs": [],
   "source": [
    "def preprocess_text(df, remove_special=True):\n",
    "    texts = df['posts'].copy()\n",
    "    labels = df['type'].copy()\n",
    "\n",
    "    #Remove links \n",
    "    df[\"posts\"] = df[\"posts\"].apply(lambda x: re.sub(r'https?:\\/\\/.*?[\\s+]', '', x.replace(\"|\",\" \") + \" \"))\n",
    "    \n",
    "    #Keep the End Of Sentence characters\n",
    "    df[\"posts\"] = df[\"posts\"].apply(lambda x: re.sub(r'\\.', ' EOSTokenDot ', x + \" \"))\n",
    "    df[\"posts\"] = df[\"posts\"].apply(lambda x: re.sub(r'\\?', ' EOSTokenQuest ', x + \" \"))\n",
    "    df[\"posts\"] = df[\"posts\"].apply(lambda x: re.sub(r'!', ' EOSTokenExs ', x + \" \"))\n",
    "    \n",
    "    #Strip Punctation\n",
    "    df[\"posts\"] = df[\"posts\"].apply(lambda x: re.sub(r'[\\.+]', \".\",x))\n",
    "\n",
    "    #Remove multiple fullstops\n",
    "    df[\"posts\"] = df[\"posts\"].apply(lambda x: re.sub(r'[^\\w\\s]','',x))\n",
    "\n",
    "    #Remove Non-words\n",
    "    df[\"posts\"] = df[\"posts\"].apply(lambda x: re.sub(r'[^a-zA-Z\\s]','',x))\n",
    "        #Convert posts to lowercase\n",
    "    df[\"posts\"] = df[\"posts\"].apply(lambda x: x.lower())\n",
    "\n",
    "    #Remove multiple letter repeating words\n",
    "    df[\"posts\"] = df[\"posts\"].apply(lambda x: re.sub(r'([a-z])\\1{2,}[\\s|\\w]*','',x)) \n",
    "\n",
    "    #Remove very short or long words\n",
    "    df[\"posts\"] = df[\"posts\"].apply(lambda x: re.sub(r'(\\b\\w{0,3})?\\b','',x)) \n",
    "    df[\"posts\"] = df[\"posts\"].apply(lambda x: re.sub(r'(\\b\\w{30,1000})?\\b','',x))\n",
    "\n",
    "    #Remove MBTI Personality Words - crutial in order to get valid model accuracy estimation for unseen data. \n",
    "    if remove_special:\n",
    "        pers_types = ['INFP' ,'INFJ', 'INTP', 'INTJ', 'ENTP', 'ENFP', 'ISTP' ,'ISFP' ,'ENTJ', 'ISTJ','ENFJ', 'ISFJ' ,'ESTP', 'ESFP' ,'ESFJ' ,'ESTJ']\n",
    "        pers_types = [p.lower() for p in pers_types]\n",
    "        p = re.compile(\"(\" + \"|\".join(pers_types) + \")\")\n",
    "    \n",
    "    return df\n",
    "\n",
    "#Preprocessing of entered Text\n",
    "data_set = pd.read_csv(\"/Users/rajibsamanta/Documents/Rajib/College/Sem6_fall_2023/Week6/mbti_1.csv\")\n",
    "new_df = preprocess_text(data_set, remove_special=True)"
   ]
  },
  {
   "cell_type": "code",
   "execution_count": 26,
   "id": "fcb3bbc1",
   "metadata": {},
   "outputs": [
    {
     "name": "stdout",
     "output_type": "stream",
     "text": [
      "Before : Number of posts 8675\n",
      "After : Number of posts 8466\n"
     ]
    }
   ],
   "source": [
    "#Remove posts with less than X words\n",
    "min_words = 15\n",
    "print(\"Before : Number of posts\", len(new_df)) \n",
    "new_df[\"no. of. words\"] = new_df[\"posts\"].apply(lambda x: len(re.findall(r'\\w+', x)))\n",
    "new_df = new_df[new_df[\"no. of. words\"] >= min_words]\n",
    "\n",
    "print(\"After : Number of posts\", len(new_df))"
   ]
  },
  {
   "cell_type": "markdown",
   "id": "d7561169",
   "metadata": {},
   "source": [
    "#### Feature Engineering"
   ]
  },
  {
   "cell_type": "code",
   "execution_count": 27,
   "id": "42b873f3",
   "metadata": {},
   "outputs": [
    {
     "name": "stdout",
     "output_type": "stream",
     "text": [
      "(8466, 3)\n"
     ]
    }
   ],
   "source": [
    "print(new_df.shape)\n"
   ]
  },
  {
   "cell_type": "code",
   "execution_count": 28,
   "id": "18fbcf61",
   "metadata": {},
   "outputs": [
    {
     "data": {
      "text/html": [
       "<div>\n",
       "<style scoped>\n",
       "    .dataframe tbody tr th:only-of-type {\n",
       "        vertical-align: middle;\n",
       "    }\n",
       "\n",
       "    .dataframe tbody tr th {\n",
       "        vertical-align: top;\n",
       "    }\n",
       "\n",
       "    .dataframe thead th {\n",
       "        text-align: right;\n",
       "    }\n",
       "</style>\n",
       "<table border=\"1\" class=\"dataframe\">\n",
       "  <thead>\n",
       "    <tr style=\"text-align: right;\">\n",
       "      <th></th>\n",
       "      <th>type</th>\n",
       "      <th>posts</th>\n",
       "      <th>no. of. words</th>\n",
       "    </tr>\n",
       "  </thead>\n",
       "  <tbody>\n",
       "    <tr>\n",
       "      <th>0</th>\n",
       "      <td>INFJ</td>\n",
       "      <td>enfp  intj moments   sportscenter    plays...</td>\n",
       "      <td>430</td>\n",
       "    </tr>\n",
       "    <tr>\n",
       "      <th>1</th>\n",
       "      <td>ENTP</td>\n",
       "      <td>finding  lack    these posts very alarming eo...</td>\n",
       "      <td>803</td>\n",
       "    </tr>\n",
       "    <tr>\n",
       "      <th>2</th>\n",
       "      <td>INTP</td>\n",
       "      <td>good         course  which    know thats  bles...</td>\n",
       "      <td>253</td>\n",
       "    </tr>\n",
       "    <tr>\n",
       "      <th>3</th>\n",
       "      <td>INTJ</td>\n",
       "      <td>dear intp    enjoyed  conversation  other  eos...</td>\n",
       "      <td>777</td>\n",
       "    </tr>\n",
       "    <tr>\n",
       "      <th>4</th>\n",
       "      <td>ENTJ</td>\n",
       "      <td>youre fired eostokendot    thats another silly...</td>\n",
       "      <td>402</td>\n",
       "    </tr>\n",
       "  </tbody>\n",
       "</table>\n",
       "</div>"
      ],
      "text/plain": [
       "   type                                              posts  no. of. words\n",
       "0  INFJ      enfp  intj moments   sportscenter    plays...            430\n",
       "1  ENTP   finding  lack    these posts very alarming eo...            803\n",
       "2  INTP  good         course  which    know thats  bles...            253\n",
       "3  INTJ  dear intp    enjoyed  conversation  other  eos...            777\n",
       "4  ENTJ  youre fired eostokendot    thats another silly...            402"
      ]
     },
     "execution_count": 28,
     "metadata": {},
     "output_type": "execute_result"
    }
   ],
   "source": [
    "new_df.head()"
   ]
  },
  {
   "cell_type": "markdown",
   "id": "5d46485f",
   "metadata": {},
   "source": [
    "#### Splitting into Targets & Features:"
   ]
  },
  {
   "cell_type": "code",
   "execution_count": 29,
   "id": "466229cd",
   "metadata": {},
   "outputs": [
    {
     "name": "stderr",
     "output_type": "stream",
     "text": [
      "/var/folders/s5/r__yh4p17f12tlyfs6w_46xm0000gn/T/ipykernel_62212/336629569.py:5: SettingWithCopyWarning: \n",
      "A value is trying to be set on a copy of a slice from a DataFrame.\n",
      "Try using .loc[row_indexer,col_indexer] = value instead\n",
      "\n",
      "See the caveats in the documentation: https://pandas.pydata.org/pandas-docs/stable/user_guide/indexing.html#returning-a-view-versus-a-copy\n",
      "  new_df['type of encoding'] = enc.fit_transform(new_df['type'])\n"
     ]
    }
   ],
   "source": [
    "# Converting MBTI personality (or target or Y feature) into numerical form using Label Encoding\n",
    "# encoding personality type\n",
    "# Encode the categorical MBTI personality types into numerical labels. For example, convert \"INFP\" to 1,\"ENFJ\" to 2, and so on\n",
    "enc = LabelEncoder()\n",
    "new_df['type of encoding'] = enc.fit_transform(new_df['type'])\n",
    "\n",
    "target = new_df['type of encoding'] "
   ]
  },
  {
   "cell_type": "code",
   "execution_count": 30,
   "id": "2c3a5307",
   "metadata": {},
   "outputs": [
    {
     "data": {
      "text/html": [
       "<div>\n",
       "<style scoped>\n",
       "    .dataframe tbody tr th:only-of-type {\n",
       "        vertical-align: middle;\n",
       "    }\n",
       "\n",
       "    .dataframe tbody tr th {\n",
       "        vertical-align: top;\n",
       "    }\n",
       "\n",
       "    .dataframe thead th {\n",
       "        text-align: right;\n",
       "    }\n",
       "</style>\n",
       "<table border=\"1\" class=\"dataframe\">\n",
       "  <thead>\n",
       "    <tr style=\"text-align: right;\">\n",
       "      <th></th>\n",
       "      <th>type</th>\n",
       "      <th>posts</th>\n",
       "      <th>no. of. words</th>\n",
       "      <th>type of encoding</th>\n",
       "    </tr>\n",
       "  </thead>\n",
       "  <tbody>\n",
       "    <tr>\n",
       "      <th>0</th>\n",
       "      <td>INFJ</td>\n",
       "      <td>enfp  intj moments   sportscenter    plays...</td>\n",
       "      <td>430</td>\n",
       "      <td>8</td>\n",
       "    </tr>\n",
       "    <tr>\n",
       "      <th>1</th>\n",
       "      <td>ENTP</td>\n",
       "      <td>finding  lack    these posts very alarming eo...</td>\n",
       "      <td>803</td>\n",
       "      <td>3</td>\n",
       "    </tr>\n",
       "    <tr>\n",
       "      <th>2</th>\n",
       "      <td>INTP</td>\n",
       "      <td>good         course  which    know thats  bles...</td>\n",
       "      <td>253</td>\n",
       "      <td>11</td>\n",
       "    </tr>\n",
       "    <tr>\n",
       "      <th>3</th>\n",
       "      <td>INTJ</td>\n",
       "      <td>dear intp    enjoyed  conversation  other  eos...</td>\n",
       "      <td>777</td>\n",
       "      <td>10</td>\n",
       "    </tr>\n",
       "    <tr>\n",
       "      <th>4</th>\n",
       "      <td>ENTJ</td>\n",
       "      <td>youre fired eostokendot    thats another silly...</td>\n",
       "      <td>402</td>\n",
       "      <td>2</td>\n",
       "    </tr>\n",
       "    <tr>\n",
       "      <th>5</th>\n",
       "      <td>INTJ</td>\n",
       "      <td>eostokendot    science    perfect eostokendo...</td>\n",
       "      <td>245</td>\n",
       "      <td>10</td>\n",
       "    </tr>\n",
       "    <tr>\n",
       "      <th>6</th>\n",
       "      <td>INFJ</td>\n",
       "      <td>cant draw    nails haha eostokendot  those w...</td>\n",
       "      <td>970</td>\n",
       "      <td>8</td>\n",
       "    </tr>\n",
       "    <tr>\n",
       "      <th>7</th>\n",
       "      <td>INTJ</td>\n",
       "      <td>tend  build   collection  things   desktop th...</td>\n",
       "      <td>140</td>\n",
       "      <td>10</td>\n",
       "    </tr>\n",
       "    <tr>\n",
       "      <th>8</th>\n",
       "      <td>INFJ</td>\n",
       "      <td>sure thats  good question eostokendot   dist...</td>\n",
       "      <td>522</td>\n",
       "      <td>8</td>\n",
       "    </tr>\n",
       "    <tr>\n",
       "      <th>9</th>\n",
       "      <td>INTP</td>\n",
       "      <td>this position where  have  actually     pe...</td>\n",
       "      <td>130</td>\n",
       "      <td>11</td>\n",
       "    </tr>\n",
       "    <tr>\n",
       "      <th>10</th>\n",
       "      <td>INFJ</td>\n",
       "      <td>time  parents were fighting over  dads affair...</td>\n",
       "      <td>1072</td>\n",
       "      <td>8</td>\n",
       "    </tr>\n",
       "    <tr>\n",
       "      <th>11</th>\n",
       "      <td>ENFJ</td>\n",
       "      <td>went through  break  some months  eosto...</td>\n",
       "      <td>332</td>\n",
       "      <td>0</td>\n",
       "    </tr>\n",
       "    <tr>\n",
       "      <th>12</th>\n",
       "      <td>INFJ</td>\n",
       "      <td>santagato  entp   enfj   entp eostokenquest  ...</td>\n",
       "      <td>554</td>\n",
       "      <td>8</td>\n",
       "    </tr>\n",
       "    <tr>\n",
       "      <th>13</th>\n",
       "      <td>INTJ</td>\n",
       "      <td>fair enough  thats   want  look   eostokendot ...</td>\n",
       "      <td>1110</td>\n",
       "      <td>10</td>\n",
       "    </tr>\n",
       "    <tr>\n",
       "      <th>14</th>\n",
       "      <td>INTP</td>\n",
       "      <td>basically this eostokendot  eostokendot  eosto...</td>\n",
       "      <td>640</td>\n",
       "      <td>11</td>\n",
       "    </tr>\n",
       "  </tbody>\n",
       "</table>\n",
       "</div>"
      ],
      "text/plain": [
       "    type                                              posts  no. of. words  \\\n",
       "0   INFJ      enfp  intj moments   sportscenter    plays...            430   \n",
       "1   ENTP   finding  lack    these posts very alarming eo...            803   \n",
       "2   INTP  good         course  which    know thats  bles...            253   \n",
       "3   INTJ  dear intp    enjoyed  conversation  other  eos...            777   \n",
       "4   ENTJ  youre fired eostokendot    thats another silly...            402   \n",
       "5   INTJ    eostokendot    science    perfect eostokendo...            245   \n",
       "6   INFJ    cant draw    nails haha eostokendot  those w...            970   \n",
       "7   INTJ   tend  build   collection  things   desktop th...            140   \n",
       "8   INFJ    sure thats  good question eostokendot   dist...            522   \n",
       "9   INTP      this position where  have  actually     pe...            130   \n",
       "10  INFJ   time  parents were fighting over  dads affair...           1072   \n",
       "11  ENFJ         went through  break  some months  eosto...            332   \n",
       "12  INFJ   santagato  entp   enfj   entp eostokenquest  ...            554   \n",
       "13  INTJ  fair enough  thats   want  look   eostokendot ...           1110   \n",
       "14  INTP  basically this eostokendot  eostokendot  eosto...            640   \n",
       "\n",
       "    type of encoding  \n",
       "0                  8  \n",
       "1                  3  \n",
       "2                 11  \n",
       "3                 10  \n",
       "4                  2  \n",
       "5                 10  \n",
       "6                  8  \n",
       "7                 10  \n",
       "8                  8  \n",
       "9                 11  \n",
       "10                 8  \n",
       "11                 0  \n",
       "12                 8  \n",
       "13                10  \n",
       "14                11  "
      ]
     },
     "execution_count": 30,
     "metadata": {},
     "output_type": "execute_result"
    }
   ],
   "source": [
    "new_df.head(15)"
   ]
  },
  {
   "cell_type": "code",
   "execution_count": 31,
   "id": "d640955b",
   "metadata": {},
   "outputs": [
    {
     "name": "stdout",
     "output_type": "stream",
     "text": [
      "['i', 'me', 'my', 'myself', 'we', 'our', 'ours', 'ourselves', 'you', \"you're\", \"you've\", \"you'll\", \"you'd\", 'your', 'yours', 'yourself', 'yourselves', 'he', 'him', 'his', 'himself', 'she', \"she's\", 'her', 'hers', 'herself', 'it', \"it's\", 'its', 'itself', 'they', 'them', 'their', 'theirs', 'themselves', 'what', 'which', 'who', 'whom', 'this', 'that', \"that'll\", 'these', 'those', 'am', 'is', 'are', 'was', 'were', 'be', 'been', 'being', 'have', 'has', 'had', 'having', 'do', 'does', 'did', 'doing', 'a', 'an', 'the', 'and', 'but', 'if', 'or', 'because', 'as', 'until', 'while', 'of', 'at', 'by', 'for', 'with', 'about', 'against', 'between', 'into', 'through', 'during', 'before', 'after', 'above', 'below', 'to', 'from', 'up', 'down', 'in', 'out', 'on', 'off', 'over', 'under', 'again', 'further', 'then', 'once', 'here', 'there', 'when', 'where', 'why', 'how', 'all', 'any', 'both', 'each', 'few', 'more', 'most', 'other', 'some', 'such', 'no', 'nor', 'not', 'only', 'own', 'same', 'so', 'than', 'too', 'very', 's', 't', 'can', 'will', 'just', 'don', \"don't\", 'should', \"should've\", 'now', 'd', 'll', 'm', 'o', 're', 've', 'y', 'ain', 'aren', \"aren't\", 'couldn', \"couldn't\", 'didn', \"didn't\", 'doesn', \"doesn't\", 'hadn', \"hadn't\", 'hasn', \"hasn't\", 'haven', \"haven't\", 'isn', \"isn't\", 'ma', 'mightn', \"mightn't\", 'mustn', \"mustn't\", 'needn', \"needn't\", 'shan', \"shan't\", 'shouldn', \"shouldn't\", 'wasn', \"wasn't\", 'weren', \"weren't\", 'won', \"won't\", 'wouldn', \"wouldn't\"]\n"
     ]
    }
   ],
   "source": [
    "# In natural language processing, useless words are referred to as stop words. \n",
    "# The python natural language toolkit library provides a list of english stop words.\n",
    "print(stopwords.words('english'))"
   ]
  },
  {
   "cell_type": "code",
   "execution_count": 32,
   "id": "17187d77",
   "metadata": {},
   "outputs": [
    {
     "data": {
      "text/plain": [
       "(8466, 98555)"
      ]
     },
     "execution_count": 32,
     "metadata": {},
     "output_type": "execute_result"
    }
   ],
   "source": [
    "# we use stop_words='english' with CountVectorizer since this just counts the occurrences of each word in its vocabulary, extremely common words like ‘the’, ‘and’, etc. \n",
    "# will become very important features while they add little meaning to the text. This is an important step in pre-processing as our model can often be improved if you don’t take those words into account.\n",
    "# Vectorizing the posts for the model and filtering Stop-words\n",
    "vect = CountVectorizer(stop_words='english') \n",
    "\n",
    "# Converting posts (or training or X feature) into numerical form by count vectorization\n",
    "train =  vect.fit_transform(new_df[\"posts\"])\n",
    "train.shape"
   ]
  },
  {
   "cell_type": "code",
   "execution_count": 33,
   "id": "f56c5ab2",
   "metadata": {},
   "outputs": [
    {
     "data": {
      "text/html": [
       "<div>\n",
       "<style scoped>\n",
       "    .dataframe tbody tr th:only-of-type {\n",
       "        vertical-align: middle;\n",
       "    }\n",
       "\n",
       "    .dataframe tbody tr th {\n",
       "        vertical-align: top;\n",
       "    }\n",
       "\n",
       "    .dataframe thead th {\n",
       "        text-align: right;\n",
       "    }\n",
       "</style>\n",
       "<table border=\"1\" class=\"dataframe\">\n",
       "  <thead>\n",
       "    <tr style=\"text-align: right;\">\n",
       "      <th></th>\n",
       "      <th>type</th>\n",
       "      <th>posts</th>\n",
       "      <th>no. of. words</th>\n",
       "      <th>type of encoding</th>\n",
       "    </tr>\n",
       "  </thead>\n",
       "  <tbody>\n",
       "    <tr>\n",
       "      <th>0</th>\n",
       "      <td>INFJ</td>\n",
       "      <td>enfp  intj moments   sportscenter    plays...</td>\n",
       "      <td>430</td>\n",
       "      <td>8</td>\n",
       "    </tr>\n",
       "    <tr>\n",
       "      <th>1</th>\n",
       "      <td>ENTP</td>\n",
       "      <td>finding  lack    these posts very alarming eo...</td>\n",
       "      <td>803</td>\n",
       "      <td>3</td>\n",
       "    </tr>\n",
       "    <tr>\n",
       "      <th>2</th>\n",
       "      <td>INTP</td>\n",
       "      <td>good         course  which    know thats  bles...</td>\n",
       "      <td>253</td>\n",
       "      <td>11</td>\n",
       "    </tr>\n",
       "    <tr>\n",
       "      <th>3</th>\n",
       "      <td>INTJ</td>\n",
       "      <td>dear intp    enjoyed  conversation  other  eos...</td>\n",
       "      <td>777</td>\n",
       "      <td>10</td>\n",
       "    </tr>\n",
       "    <tr>\n",
       "      <th>4</th>\n",
       "      <td>ENTJ</td>\n",
       "      <td>youre fired eostokendot    thats another silly...</td>\n",
       "      <td>402</td>\n",
       "      <td>2</td>\n",
       "    </tr>\n",
       "  </tbody>\n",
       "</table>\n",
       "</div>"
      ],
      "text/plain": [
       "   type                                              posts  no. of. words  \\\n",
       "0  INFJ      enfp  intj moments   sportscenter    plays...            430   \n",
       "1  ENTP   finding  lack    these posts very alarming eo...            803   \n",
       "2  INTP  good         course  which    know thats  bles...            253   \n",
       "3  INTJ  dear intp    enjoyed  conversation  other  eos...            777   \n",
       "4  ENTJ  youre fired eostokendot    thats another silly...            402   \n",
       "\n",
       "   type of encoding  \n",
       "0                 8  \n",
       "1                 3  \n",
       "2                11  \n",
       "3                10  \n",
       "4                 2  "
      ]
     },
     "execution_count": 33,
     "metadata": {},
     "output_type": "execute_result"
    }
   ],
   "source": [
    "new_df.head()"
   ]
  },
  {
   "cell_type": "markdown",
   "id": "d8066fa0",
   "metadata": {},
   "source": [
    "* So now there are 98555 features in our dataset for 8466 rows (users)"
   ]
  },
  {
   "cell_type": "markdown",
   "id": "15312421",
   "metadata": {},
   "source": [
    "#### Model(s) Building"
   ]
  },
  {
   "cell_type": "code",
   "execution_count": 34,
   "id": "0d2f4ee4",
   "metadata": {},
   "outputs": [
    {
     "name": "stdout",
     "output_type": "stream",
     "text": [
      "(6772, 98555) (6772,) (1694, 98555) (1694,)\n"
     ]
    }
   ],
   "source": [
    "#Splitting into Train & Test Sets , 80-20 split\n",
    "X_train, X_test, y_train, y_test = train_test_split(train, target, test_size=0.2, stratify=target, random_state=42)\n",
    "print ((X_train.shape),(y_train.shape),(X_test.shape),(y_test.shape))"
   ]
  },
  {
   "cell_type": "code",
   "execution_count": 35,
   "id": "631f1093",
   "metadata": {},
   "outputs": [
    {
     "name": "stdout",
     "output_type": "stream",
     "text": [
      "Accuracy: 39.20%\n"
     ]
    }
   ],
   "source": [
    "# Random Forest\n",
    "accuracies = {}\n",
    "random_forest = RandomForestClassifier(n_estimators=100, random_state = 1)\n",
    "random_forest.fit(X_train, y_train)\n",
    "\n",
    "# make predictions for test data\n",
    "Y_pred = random_forest.predict(X_test)\n",
    "predictions = [round(value) for value in Y_pred]\n",
    "\n",
    "# evaluate predictions\n",
    "accuracy = accuracy_score(y_test, predictions)\n",
    "accuracies['Random Forest'] = accuracy* 100.0 \n",
    "print(\"Accuracy: %.2f%%\" % (accuracy * 100.0))"
   ]
  },
  {
   "cell_type": "code",
   "execution_count": 36,
   "id": "d8ff2328",
   "metadata": {},
   "outputs": [
    {
     "name": "stdout",
     "output_type": "stream",
     "text": [
      "Accuracy: 58.15%\n"
     ]
    }
   ],
   "source": [
    "#XG boost Classifier\n",
    "xgb = XGBClassifier()\n",
    "xgb.fit(X_train,y_train)\n",
    "\n",
    "Y_pred = xgb.predict(X_test)\n",
    "predictions = [round(value) for value in Y_pred]\n",
    "\n",
    "# evaluate predictions\n",
    "accuracy = accuracy_score(y_test, predictions)\n",
    "accuracies['XG Boost'] = accuracy* 100.0\n",
    "print(\"Accuracy: %.2f%%\" % (accuracy * 100.0))"
   ]
  },
  {
   "cell_type": "code",
   "execution_count": 37,
   "id": "4ea40b20",
   "metadata": {},
   "outputs": [
    {
     "name": "stdout",
     "output_type": "stream",
     "text": [
      "Accuracy: 57.50%\n"
     ]
    },
    {
     "name": "stderr",
     "output_type": "stream",
     "text": [
      "/Users/rajibsamanta/miniconda3/lib/python3.11/site-packages/sklearn/linear_model/_logistic.py:460: ConvergenceWarning: lbfgs failed to converge (status=1):\n",
      "STOP: TOTAL NO. of ITERATIONS REACHED LIMIT.\n",
      "\n",
      "Increase the number of iterations (max_iter) or scale the data as shown in:\n",
      "    https://scikit-learn.org/stable/modules/preprocessing.html\n",
      "Please also refer to the documentation for alternative solver options:\n",
      "    https://scikit-learn.org/stable/modules/linear_model.html#logistic-regression\n",
      "  n_iter_i = _check_optimize_result(\n"
     ]
    }
   ],
   "source": [
    "# Logistic Regression\n",
    "logreg = LogisticRegression()\n",
    "logreg.fit(X_train, y_train)\n",
    "\n",
    "Y_pred = logreg.predict(X_test)\n",
    "predictions = [round(value) for value in Y_pred]\n",
    "\n",
    "# evaluate predictions\n",
    "accuracy = accuracy_score(y_test, predictions)\n",
    "accuracies['Logistic Regression'] = accuracy* 100.0\n",
    "print(\"Accuracy: %.2f%%\" % (accuracy * 100.0))"
   ]
  },
  {
   "cell_type": "code",
   "execution_count": 38,
   "id": "72bbc384",
   "metadata": {},
   "outputs": [
    {
     "name": "stdout",
     "output_type": "stream",
     "text": [
      "Accuracy: 17.06%\n"
     ]
    },
    {
     "data": {
      "image/png": "[encoded data removed]",
      "text/plain": [
       "<Figure size 640x480 with 1 Axes>"
      ]
     },
     "metadata": {},
     "output_type": "display_data"
    },
    {
     "name": "stdout",
     "output_type": "stream",
     "text": [
      "Maximum KNN Score is 27.21%\n"
     ]
    }
   ],
   "source": [
    "#KNN Classifier\n",
    "from sklearn.neighbors import KNeighborsClassifier\n",
    "knn = KNeighborsClassifier(n_neighbors = 2)  # n_neighbors means k\n",
    "knn.fit(X_train, y_train)\n",
    "\n",
    "Y_pred = knn.predict(X_test)\n",
    "predictions = [round(value) for value in Y_pred]\n",
    "\n",
    "# evaluate predictions\n",
    "accuracy = accuracy_score(y_test, predictions)\n",
    "accuracies['KNN'] = accuracy* 100.0\n",
    "print(\"Accuracy: %.2f%%\" % (accuracy * 100.0))\n",
    "\n",
    "#try to find best k value\n",
    "scoreList = []\n",
    "for i in range(1,20):\n",
    "    knn2 = KNeighborsClassifier(n_neighbors = i)  # n_neighbors means k\n",
    "    knn2.fit(X_train, y_train)\n",
    "    scoreList.append(knn2.score(X_test, y_test))\n",
    "    \n",
    "plt.plot(range(1,20), scoreList)\n",
    "plt.xticks(np.arange(1,20,1))\n",
    "plt.xlabel(\"K value\")\n",
    "plt.ylabel(\"Score\")\n",
    "plt.show()\n",
    "\n",
    "acc = max(scoreList)*100\n",
    "\n",
    "print(\"Maximum KNN Score is {:.2f}%\".format(acc))"
   ]
  },
  {
   "cell_type": "code",
   "execution_count": 39,
   "id": "701e8dcf",
   "metadata": {},
   "outputs": [
    {
     "name": "stdout",
     "output_type": "stream",
     "text": [
      "Accuracy: 43.39%\n"
     ]
    }
   ],
   "source": [
    "#Gradient Descent\n",
    "sgd = SGDClassifier(max_iter=5, tol=None)\n",
    "sgd.fit(X_train, y_train)\n",
    "\n",
    "Y_pred = sgd.predict(X_test)\n",
    "predictions = [round(value) for value in Y_pred]\n",
    "\n",
    "# evaluate predictions\n",
    "accuracy = accuracy_score(y_test, predictions)\n",
    "accuracies['Gradient Descent'] = accuracy* 100.0\n",
    "print(\"Accuracy: %.2f%%\" % (accuracy * 100.0))"
   ]
  },
  {
   "cell_type": "code",
   "execution_count": 40,
   "id": "846a5514",
   "metadata": {},
   "outputs": [
    {
     "name": "stdout",
     "output_type": "stream",
     "text": [
      "Accuracy: 36.48%\n"
     ]
    }
   ],
   "source": [
    "# SVM Model\n",
    "from sklearn.svm import SVC\n",
    "svm = SVC(random_state = 1)\n",
    "svm.fit(X_train, y_train)\n",
    "\n",
    "Y_pred = svm.predict(X_test)\n",
    "\n",
    "predictions = [round(value) for value in Y_pred]\n",
    "# evaluate predictions\n",
    "accuracy = accuracy_score(y_test, predictions)\n",
    "accuracies['SVM'] = accuracy* 100.0\n",
    "print(\"Accuracy: %.2f%%\" % (accuracy * 100.0))"
   ]
  },
  {
   "cell_type": "code",
   "execution_count": 41,
   "id": "19b35596",
   "metadata": {},
   "outputs": [
    {
     "data": {
      "text/html": [
       "<div>\n",
       "<style scoped>\n",
       "    .dataframe tbody tr th:only-of-type {\n",
       "        vertical-align: middle;\n",
       "    }\n",
       "\n",
       "    .dataframe tbody tr th {\n",
       "        vertical-align: top;\n",
       "    }\n",
       "\n",
       "    .dataframe thead th {\n",
       "        text-align: right;\n",
       "    }\n",
       "</style>\n",
       "<table border=\"1\" class=\"dataframe\">\n",
       "  <thead>\n",
       "    <tr style=\"text-align: right;\">\n",
       "      <th></th>\n",
       "      <th>Accuracies(%)</th>\n",
       "    </tr>\n",
       "  </thead>\n",
       "  <tbody>\n",
       "    <tr>\n",
       "      <th>Random Forest</th>\n",
       "      <td>39.197166</td>\n",
       "    </tr>\n",
       "    <tr>\n",
       "      <th>XG Boost</th>\n",
       "      <td>58.146399</td>\n",
       "    </tr>\n",
       "    <tr>\n",
       "      <th>Logistic Regression</th>\n",
       "      <td>57.497048</td>\n",
       "    </tr>\n",
       "    <tr>\n",
       "      <th>KNN</th>\n",
       "      <td>17.060213</td>\n",
       "    </tr>\n",
       "    <tr>\n",
       "      <th>Gradient Descent</th>\n",
       "      <td>43.388430</td>\n",
       "    </tr>\n",
       "    <tr>\n",
       "      <th>SVM</th>\n",
       "      <td>36.481700</td>\n",
       "    </tr>\n",
       "  </tbody>\n",
       "</table>\n",
       "</div>"
      ],
      "text/plain": [
       "                     Accuracies(%)\n",
       "Random Forest            39.197166\n",
       "XG Boost                 58.146399\n",
       "Logistic Regression      57.497048\n",
       "KNN                      17.060213\n",
       "Gradient Descent         43.388430\n",
       "SVM                      36.481700"
      ]
     },
     "execution_count": 41,
     "metadata": {},
     "output_type": "execute_result"
    }
   ],
   "source": [
    "#### Comparing Algorithms\n",
    "pd.DataFrame.from_dict(accuracies, orient='index', columns=['Accuracies(%)'])"
   ]
  },
  {
   "cell_type": "code",
   "execution_count": 42,
   "id": "a2022676",
   "metadata": {},
   "outputs": [
    {
     "data": {
      "image/png": "[encoded data removed]",
      "text/plain": [
       "<Figure size 1600x500 with 1 Axes>"
      ]
     },
     "metadata": {},
     "output_type": "display_data"
    }
   ],
   "source": [
    "# Bar plot\n",
    "sns.set_style(\"whitegrid\")\n",
    "plt.figure(figsize=(16,5))\n",
    "plt.yticks(np.arange(0,100,10))\n",
    "plt.ylabel(\"Accuracy %\")\n",
    "plt.xlabel(\"Algorithms\")\n",
    "sns.barplot(x=list(accuracies.keys()), y=list(accuracies.values()))\n",
    "plt.show()"
   ]
  },
  {
   "cell_type": "markdown",
   "id": "78f9b9aa",
   "metadata": {},
   "source": [
    "* After comparing all the ML models, Logistic Regression model has highest accuracy 57.925072. So will consider this model as Personality Predictor."
   ]
  },
  {
   "cell_type": "markdown",
   "id": "1b8a8ba4",
   "metadata": {},
   "source": [
    "The Myers Briggs Type Indicator (or MBTI for short) is a personality type system that divides everyone into 16 distinct personality types across 4 axis:\n",
    "\n",
    "* Introversion (I) – Extroversion (E)\n",
    "* Intuition (N) – Sensing (S)\n",
    "* Thinking (T) – Feeling (F)\n",
    "* Judging (J) – Perceiving (P)"
   ]
  },
  {
   "cell_type": "code",
   "execution_count": 43,
   "id": "d3f8ecaa",
   "metadata": {},
   "outputs": [
    {
     "data": {
      "text/html": [
       "<div>\n",
       "<style scoped>\n",
       "    .dataframe tbody tr th:only-of-type {\n",
       "        vertical-align: middle;\n",
       "    }\n",
       "\n",
       "    .dataframe tbody tr th {\n",
       "        vertical-align: top;\n",
       "    }\n",
       "\n",
       "    .dataframe thead th {\n",
       "        text-align: right;\n",
       "    }\n",
       "</style>\n",
       "<table border=\"1\" class=\"dataframe\">\n",
       "  <thead>\n",
       "    <tr style=\"text-align: right;\">\n",
       "      <th></th>\n",
       "      <th>type</th>\n",
       "      <th>posts</th>\n",
       "      <th>no. of. words</th>\n",
       "      <th>type of encoding</th>\n",
       "    </tr>\n",
       "  </thead>\n",
       "  <tbody>\n",
       "    <tr>\n",
       "      <th>0</th>\n",
       "      <td>INFJ</td>\n",
       "      <td>enfp  intj moments   sportscenter    plays...</td>\n",
       "      <td>430</td>\n",
       "      <td>8</td>\n",
       "    </tr>\n",
       "    <tr>\n",
       "      <th>1</th>\n",
       "      <td>ENTP</td>\n",
       "      <td>finding  lack    these posts very alarming eo...</td>\n",
       "      <td>803</td>\n",
       "      <td>3</td>\n",
       "    </tr>\n",
       "    <tr>\n",
       "      <th>2</th>\n",
       "      <td>INTP</td>\n",
       "      <td>good         course  which    know thats  bles...</td>\n",
       "      <td>253</td>\n",
       "      <td>11</td>\n",
       "    </tr>\n",
       "    <tr>\n",
       "      <th>3</th>\n",
       "      <td>INTJ</td>\n",
       "      <td>dear intp    enjoyed  conversation  other  eos...</td>\n",
       "      <td>777</td>\n",
       "      <td>10</td>\n",
       "    </tr>\n",
       "    <tr>\n",
       "      <th>4</th>\n",
       "      <td>ENTJ</td>\n",
       "      <td>youre fired eostokendot    thats another silly...</td>\n",
       "      <td>402</td>\n",
       "      <td>2</td>\n",
       "    </tr>\n",
       "  </tbody>\n",
       "</table>\n",
       "</div>"
      ],
      "text/plain": [
       "   type                                              posts  no. of. words  \\\n",
       "0  INFJ      enfp  intj moments   sportscenter    plays...            430   \n",
       "1  ENTP   finding  lack    these posts very alarming eo...            803   \n",
       "2  INTP  good         course  which    know thats  bles...            253   \n",
       "3  INTJ  dear intp    enjoyed  conversation  other  eos...            777   \n",
       "4  ENTJ  youre fired eostokendot    thats another silly...            402   \n",
       "\n",
       "   type of encoding  \n",
       "0                 8  \n",
       "1                 3  \n",
       "2                11  \n",
       "3                10  \n",
       "4                 2  "
      ]
     },
     "execution_count": 43,
     "metadata": {},
     "output_type": "execute_result"
    }
   ],
   "source": [
    "new_df.head()"
   ]
  },
  {
   "cell_type": "code",
   "execution_count": 44,
   "id": "9e38dc8c",
   "metadata": {},
   "outputs": [
    {
     "name": "stdout",
     "output_type": "stream",
     "text": [
      "<class 'pandas.core.frame.DataFrame'>\n",
      "Index: 8466 entries, 0 to 8674\n",
      "Data columns (total 4 columns):\n",
      " #   Column            Non-Null Count  Dtype \n",
      "---  ------            --------------  ----- \n",
      " 0   type              8466 non-null   object\n",
      " 1   posts             8466 non-null   object\n",
      " 2   no. of. words     8466 non-null   int64 \n",
      " 3   type of encoding  8466 non-null   int64 \n",
      "dtypes: int64(2), object(2)\n",
      "memory usage: 330.7+ KB\n"
     ]
    }
   ],
   "source": [
    "new_df.info()"
   ]
  },
  {
   "cell_type": "markdown",
   "id": "3cbc70a3",
   "metadata": {},
   "source": [
    "ADD columns for personality type indicators"
   ]
  },
  {
   "cell_type": "code",
   "execution_count": 45,
   "id": "2676742f",
   "metadata": {},
   "outputs": [
    {
     "data": {
      "text/html": [
       "<div>\n",
       "<style scoped>\n",
       "    .dataframe tbody tr th:only-of-type {\n",
       "        vertical-align: middle;\n",
       "    }\n",
       "\n",
       "    .dataframe tbody tr th {\n",
       "        vertical-align: top;\n",
       "    }\n",
       "\n",
       "    .dataframe thead th {\n",
       "        text-align: right;\n",
       "    }\n",
       "</style>\n",
       "<table border=\"1\" class=\"dataframe\">\n",
       "  <thead>\n",
       "    <tr style=\"text-align: right;\">\n",
       "      <th></th>\n",
       "      <th>type</th>\n",
       "      <th>posts</th>\n",
       "      <th>no. of. words</th>\n",
       "      <th>type of encoding</th>\n",
       "      <th>IE</th>\n",
       "      <th>NS</th>\n",
       "      <th>TF</th>\n",
       "      <th>JP</th>\n",
       "    </tr>\n",
       "  </thead>\n",
       "  <tbody>\n",
       "    <tr>\n",
       "      <th>0</th>\n",
       "      <td>INFJ</td>\n",
       "      <td>enfp  intj moments   sportscenter    plays...</td>\n",
       "      <td>430</td>\n",
       "      <td>8</td>\n",
       "      <td>1</td>\n",
       "      <td>1</td>\n",
       "      <td>0</td>\n",
       "      <td>1</td>\n",
       "    </tr>\n",
       "    <tr>\n",
       "      <th>1</th>\n",
       "      <td>ENTP</td>\n",
       "      <td>finding  lack    these posts very alarming eo...</td>\n",
       "      <td>803</td>\n",
       "      <td>3</td>\n",
       "      <td>0</td>\n",
       "      <td>1</td>\n",
       "      <td>1</td>\n",
       "      <td>0</td>\n",
       "    </tr>\n",
       "    <tr>\n",
       "      <th>2</th>\n",
       "      <td>INTP</td>\n",
       "      <td>good         course  which    know thats  bles...</td>\n",
       "      <td>253</td>\n",
       "      <td>11</td>\n",
       "      <td>1</td>\n",
       "      <td>1</td>\n",
       "      <td>1</td>\n",
       "      <td>0</td>\n",
       "    </tr>\n",
       "    <tr>\n",
       "      <th>3</th>\n",
       "      <td>INTJ</td>\n",
       "      <td>dear intp    enjoyed  conversation  other  eos...</td>\n",
       "      <td>777</td>\n",
       "      <td>10</td>\n",
       "      <td>1</td>\n",
       "      <td>1</td>\n",
       "      <td>1</td>\n",
       "      <td>1</td>\n",
       "    </tr>\n",
       "    <tr>\n",
       "      <th>4</th>\n",
       "      <td>ENTJ</td>\n",
       "      <td>youre fired eostokendot    thats another silly...</td>\n",
       "      <td>402</td>\n",
       "      <td>2</td>\n",
       "      <td>0</td>\n",
       "      <td>1</td>\n",
       "      <td>1</td>\n",
       "      <td>1</td>\n",
       "    </tr>\n",
       "  </tbody>\n",
       "</table>\n",
       "</div>"
      ],
      "text/plain": [
       "   type                                              posts  no. of. words  \\\n",
       "0  INFJ      enfp  intj moments   sportscenter    plays...            430   \n",
       "1  ENTP   finding  lack    these posts very alarming eo...            803   \n",
       "2  INTP  good         course  which    know thats  bles...            253   \n",
       "3  INTJ  dear intp    enjoyed  conversation  other  eos...            777   \n",
       "4  ENTJ  youre fired eostokendot    thats another silly...            402   \n",
       "\n",
       "   type of encoding  IE  NS  TF  JP  \n",
       "0                 8   1   1   0   1  \n",
       "1                 3   0   1   1   0  \n",
       "2                11   1   1   1   0  \n",
       "3                10   1   1   1   1  \n",
       "4                 2   0   1   1   1  "
      ]
     },
     "execution_count": 45,
     "metadata": {},
     "output_type": "execute_result"
    }
   ],
   "source": [
    "def get_types(row):\n",
    "    t=row['type']\n",
    "\n",
    "    I = 0; N = 0\n",
    "    T = 0; J = 0\n",
    "    \n",
    "    if t[0] == 'I': I = 1\n",
    "    elif t[0] == 'E': I = 0\n",
    "    else: print('I-E not found') \n",
    "        \n",
    "    if t[1] == 'N': N = 1\n",
    "    elif t[1] == 'S': N = 0\n",
    "    else: print('N-S not found')\n",
    "        \n",
    "    if t[2] == 'T': T = 1\n",
    "    elif t[2] == 'F': T = 0\n",
    "    else: print('T-F not found')\n",
    "        \n",
    "    if t[3] == 'J': J = 1\n",
    "    elif t[3] == 'P': J = 0\n",
    "    else: print('J-P not found')\n",
    "    return pd.Series( {'IE':I, 'NS':N , 'TF': T, 'JP': J }) \n",
    "\n",
    "data = new_df.join(new_df.apply (lambda row: get_types (row),axis=1))\n",
    "data.head(5)"
   ]
  },
  {
   "cell_type": "markdown",
   "id": "4611a98b",
   "metadata": {},
   "source": [
    "Using the above code, if a person has I, N, T and J, the value across the 4 axis of MBTI i.e. IE, NS, TF and JP respectively, will be 1. Else 0.\n",
    "This will help us calculate for e.g. how many Introvert posts are present v/s how many Extrovert posts are presnt, out of all the given entries in our labelled Kaggle dataset. This is done in order to extplore the dataset for all the individual Personality Indices of MBTI"
   ]
  },
  {
   "cell_type": "markdown",
   "id": "bb6aa987",
   "metadata": {},
   "source": [
    "* Counting No. of posts in one class / Total no. of posts in the other class"
   ]
  },
  {
   "cell_type": "code",
   "execution_count": 46,
   "id": "d7ffd332",
   "metadata": {},
   "outputs": [
    {
     "name": "stdout",
     "output_type": "stream",
     "text": [
      "Introversion (I) /  Extroversion (E):\t 1930  /  6536\n",
      "Intuition (N) / Sensing (S):\t\t 1178  /  7288\n",
      "Thinking (T) / Feeling (F):\t\t 4556  /  3910\n",
      "Judging (J) / Perceiving (P):\t\t 5100  /  3366\n"
     ]
    }
   ],
   "source": [
    "print (\"Introversion (I) /  Extroversion (E):\\t\", data['IE'].value_counts()[0], \" / \", data['IE'].value_counts()[1])\n",
    "print (\"Intuition (N) / Sensing (S):\\t\\t\", data['NS'].value_counts()[0], \" / \", data['NS'].value_counts()[1])\n",
    "print (\"Thinking (T) / Feeling (F):\\t\\t\", data['TF'].value_counts()[0], \" / \", data['TF'].value_counts()[1])\n",
    "print (\"Judging (J) / Perceiving (P):\\t\\t\", data['JP'].value_counts()[0], \" / \", data['JP'].value_counts()[1])"
   ]
  },
  {
   "cell_type": "code",
   "execution_count": 47,
   "id": "567ce519",
   "metadata": {},
   "outputs": [
    {
     "data": {
      "image/png": "[encoded data removed]",
      "text/plain": [
       "<Figure size 640x480 with 1 Axes>"
      ]
     },
     "metadata": {},
     "output_type": "display_data"
    }
   ],
   "source": [
    "#Plotting the distribution of each personality type indicator\n",
    "N = 4\n",
    "bottom = (data['IE'].value_counts()[0], data['NS'].value_counts()[0], data['TF'].value_counts()[0], data['JP'].value_counts()[0])\n",
    "top = (data['IE'].value_counts()[1], data['NS'].value_counts()[1], data['TF'].value_counts()[1], data['JP'].value_counts()[1])\n",
    "\n",
    "ind = np.arange(N)    # the x locations for the groups\n",
    "# the width of the bars\n",
    "width = 0.7           # or len(x) can also be used here\n",
    "\n",
    "p1 = plt.bar(ind, bottom, width, label=\"I, N, T, F\")\n",
    "p2 = plt.bar(ind, top, width, bottom=bottom, label=\"E, S, F, P\") \n",
    "\n",
    "plt.title('Distribution accoss types indicators')\n",
    "plt.ylabel('Count')\n",
    "plt.xticks(ind, ('I / E',  'N / S', 'T / F', 'J / P',))\n",
    "plt.legend()\n",
    "\n",
    "plt.show()"
   ]
  },
  {
   "cell_type": "markdown",
   "id": "65743f53",
   "metadata": {},
   "source": [
    "* We can compare this with the fact that Introverts are a minority, making up roughly 16 percent of people. Eventhough among introverts.\n",
    "* While the population is split roughly 50/50 on the other dimensions, a full 70% of people show a preference for Sensing over Intuition when taking a personality test. Because Intuitives are the minority, the onus is on them to adjust to the Sensor way of thinking.\n",
    "\n",
    "* The differences between Judging and Perceiving are probably the most marked differences of all the four preferences. People with strong Judging preferences might have a hard time accepting people with strong Perceiving preferences, and vice-versa. On the other hand, a \"mixed\" couple can complement each other very well, if they have developed themselves enough to be able to accept each other's differences."
   ]
  },
  {
   "cell_type": "markdown",
   "id": "2682d089",
   "metadata": {},
   "source": [
    "#### Plot Features Correlation Heatmap"
   ]
  },
  {
   "cell_type": "code",
   "execution_count": 48,
   "id": "fcd8d674",
   "metadata": {},
   "outputs": [
    {
     "data": {
      "text/plain": [
       "<Axes: title={'center': 'Features Correlation Heatmap'}>"
      ]
     },
     "execution_count": 48,
     "metadata": {},
     "output_type": "execute_result"
    },
    {
     "data": {
      "image/png": "[encoded data removed]",
      "text/plain": [
       "<Figure size 1200x1000 with 2 Axes>"
      ]
     },
     "metadata": {},
     "output_type": "display_data"
    }
   ],
   "source": [
    "cmap = plt.cm.RdBu\n",
    "corr = data[['IE','NS','TF','JP']].corr()\n",
    "plt.figure(figsize=(12,10))\n",
    "plt.title('Features Correlation Heatmap', size=15)\n",
    "sns.heatmap(corr, cmap=cmap,  annot=True, linewidths=1)"
   ]
  },
  {
   "cell_type": "markdown",
   "id": "48666e29",
   "metadata": {},
   "source": [
    "* From this heatmap also, it is unclear if it shows anything valuable for interpretation\n",
    "* An assumption made in our model is that each letter type is independent of other types i.e. A person’s introversion/extroversion is not related to their judgement/perception. \n",
    "\n"
   ]
  },
  {
   "cell_type": "code",
   "execution_count": 49,
   "id": "4a305b56",
   "metadata": {},
   "outputs": [
    {
     "name": "stdout",
     "output_type": "stream",
     "text": [
      "Binarize MBTI list: \n",
      "[[0 0 0 0]\n",
      " [1 0 1 1]\n",
      " [0 0 1 1]\n",
      " ...\n",
      " [0 0 1 1]\n",
      " [0 0 0 1]\n",
      " [0 0 0 1]]\n"
     ]
    }
   ],
   "source": [
    "# Splitting the MBTI personality into 4 letters and binarizing it\n",
    "\n",
    "b_Pers = {'I':0, 'E':1, 'N':0, 'S':1, 'F':0, 'T':1, 'J':0, 'P':1}\n",
    "b_Pers_list = [{0:'I', 1:'E'}, {0:'N', 1:'S'}, {0:'F', 1:'T'}, {0:'J', 1:'P'}]\n",
    "\n",
    "def translate_personality(personality):\n",
    "    # transform mbti to binary vector\n",
    "    return [b_Pers[l] for l in personality]\n",
    "\n",
    "#To show result output for personality prediction\n",
    "def translate_back(personality):\n",
    "    # transform binary vector to mbti personality\n",
    "    s = \"\"\n",
    "    for i, l in enumerate(personality):\n",
    "        s += b_Pers_list[i][l]\n",
    "    return s\n",
    "\n",
    "list_personality_bin = np.array([translate_personality(p) for p in data.type])\n",
    "print(\"Binarize MBTI list: \\n%s\" % list_personality_bin)"
   ]
  },
  {
   "cell_type": "code",
   "execution_count": 50,
   "id": "67933c75",
   "metadata": {},
   "outputs": [
    {
     "name": "stderr",
     "output_type": "stream",
     "text": [
      "[nltk_data] Downloading package wordnet to\n",
      "[nltk_data]     /Users/rajibsamanta/nltk_data...\n",
      "[nltk_data]   Package wordnet is already up-to-date!\n"
     ]
    },
    {
     "data": {
      "text/plain": [
       "True"
      ]
     },
     "execution_count": 50,
     "metadata": {},
     "output_type": "execute_result"
    }
   ],
   "source": [
    "import nltk\n",
    "nltk.download('wordnet')"
   ]
  },
  {
   "cell_type": "markdown",
   "id": "887e50af",
   "metadata": {},
   "source": [
    "##### Cleaning of data in the posts"
   ]
  },
  {
   "cell_type": "code",
   "execution_count": 51,
   "id": "7396ce60",
   "metadata": {},
   "outputs": [
    {
     "name": "stdout",
     "output_type": "stream",
     "text": [
      "Example :\n",
      "\n",
      "Post before preprocessing:\n",
      "\n",
      "     enfp  intj moments   sportscenter    plays   pranks   what  been  most lifechanging experience  your life eostokenquest        repeat  most  today eostokendot      perc experience immerse  eostokendot     last thing  infj friend posted   facebook before committing suicide  next  eostokendot  rest  peace     hello enfj eostokendot  sorry  hear  your distress eostokendot   only natural   relationship    perfection   time  every moment  existence eostokendot    figure  hard times  times  growth  eostokendot  eostokendot  eostokendot          eostokendot  eostokendot  eostokendot    welcome  stuff eostokendot     game eostokendot   eostokendot  match eostokendot    prozac wellbrutin  least thirty minutes  moving your legs   dont mean moving them while sitting  your same desk chair weed  moderation maybe  edibles   healthier alternative eostokendot  eostokendot  eostokendot    basically come  with three items youve determined that each type  whichever types  want   would more than likely  given each types cognitive functions  whatnot when left  eostokendot  eostokendot  eostokendot     things  moderation eostokendot   sims  indeed  video game   good   that eostokendot  note  good   that  somewhat subjective  that    completely promoting  death   given  eostokendot  eostokendot  eostokendot    dear enfp  what were your favorite video games growing   what  your  current favorite video games eostokenquest  cool      appears    late eostokendot     theres someone  there  everyone eostokendot    wait eostokendot  eostokendot  eostokendot   thought confidence   good thing eostokendot     just cherish  time  solitude   revel within  inner world more whereas most other time   workin eostokendot  eostokendot  eostokendot  just enjoy   time while   eostokendot  dont worry people will always  around  eostokendot  eostokendot  eostokendot     entp ladies eostokendot  eostokendot  eostokendot   youre into  complimentary personalitywell  eostokendot     eostokendot  eostokendot  eostokendot  when your main social outlet  xbox live conversations  even then  verbally fatigue quickly eostokendot      really   part from        banned because this thread requires    eostokendot     high  backyard roast   marshmellows  backyard while conversing over something intellectual followed  massages  kisses eostokendot          banned   many   that sentence eostokendot   could  eostokenexs  think    eostokenexs    banned  watching movies   corner with  dunces eostokendot    banned because health class clearly taught  nothing about peer pressure eostokendot    banned   whole host  reasons eostokenexs        baby deer  left  right munching   beetle   middle eostokendot    using their  blood  cavemen diary todays latest happenings  their designated cave diary wall eostokendot        eostokendot  eostokendot  eostokendot     pokemon world   infj society  everyone becomes  optimist                artists  artists because they draw eostokendot    idea that counts  forming something  your  eostokendot  eostokendot  eostokendot  like  signature eostokendot    welcome   robot ranks person  downed  selfesteem     avid signature artist like herself eostokendot  proud   banned  taking   room under   eostokendot   gotta learn  share with  roaches eostokendot      banned  being  much   thundering grumbling kind  storm eostokendot  eostokendot  eostokendot   eostokendot     eostokendot  eostokendot  eostokendot   high school music  havent heard  ages eostokendot       failed  public speaking class   years    sort  learned what  could  better were     that position again eostokendot    part   failure  just overloading myself with  eostokendot  eostokendot  eostokendot     like this persons mentality eostokendot    confirmed intj    eostokendot    move   denver area  start   life  myself eostokendot     \n",
      "\n",
      "Post after preprocessing:\n",
      "\n",
      "    moment sportscenter play prank lifechanging experience life eostokenquest repeat today eostokendot perc experience immerse eostokendot last thing  friend posted facebook committing suicide next eostokendot rest peace hello  eostokendot sorry hear distress eostokendot natural relationship perfection time every moment existence eostokendot figure hard time time growth eostokendot eostokendot eostokendot eostokendot eostokendot eostokendot welcome stuff eostokendot game eostokendot eostokendot match eostokendot prozac wellbrutin least thirty minute moving leg dont mean moving sitting desk chair weed moderation maybe edible healthier alternative eostokendot eostokendot eostokendot basically come three item youve determined type whichever type want would likely given type cognitive function whatnot left eostokendot eostokendot eostokendot thing moderation eostokendot sims indeed video game good eostokendot note good somewhat subjective completely promoting death given eostokendot eostokendot eostokendot dear  favorite video game growing current favorite video game eostokenquest cool appears late eostokendot there someone everyone eostokendot wait eostokendot eostokendot eostokendot thought confidence good thing eostokendot cherish time solitude revel within inner world whereas time workin eostokendot eostokendot eostokendot enjoy time eostokendot dont worry people always around eostokendot eostokendot eostokendot  lady eostokendot eostokendot eostokendot youre complimentary personalitywell eostokendot eostokendot eostokendot eostokendot main social outlet xbox live conversation even verbally fatigue quickly eostokendot really part banned thread requires eostokendot high backyard roast marshmellows backyard conversing something intellectual followed massage kiss eostokendot banned many sentence eostokendot could eostokenexs think eostokenexs banned watching movie corner dunce eostokendot banned health class clearly taught nothing peer pressure eostokendot banned whole host reason eostokenexs baby deer left right munching beetle middle eostokendot using blood caveman diary today latest happening designated cave diary wall eostokendot eostokendot eostokendot eostokendot pokemon world  society everyone becomes optimist artist artist draw eostokendot idea count forming something eostokendot eostokendot eostokendot like signature eostokendot welcome robot rank person downed selfesteem avid signature artist like eostokendot proud banned taking room eostokendot gotta learn share roach eostokendot banned much thundering grumbling kind storm eostokendot eostokendot eostokendot eostokendot eostokendot eostokendot eostokendot high school music havent heard age eostokendot failed public speaking class year sort learned could better position eostokendot part failure overloading eostokendot eostokendot eostokendot like person mentality eostokendot confirmed  eostokendot move denver area start life eostokendot \n",
      "\n",
      "MBTI before preprocessing:\n",
      "\n",
      " INFJ\n",
      "\n",
      "MBTI after preprocessing:\n",
      "\n",
      " [0 0 0 0]\n"
     ]
    }
   ],
   "source": [
    "# Remove the stop words for speed \n",
    "useless_words = stopwords.words(\"english\")\n",
    "lemmatiser = WordNetLemmatizer() # Lemmatization is the process of grouping together the different inflected forms of a word so they can be analysed as a single item. \n",
    "# Remove these from the posts\n",
    "unique_type_list = ['INFJ', 'ENTP', 'INTP', 'INTJ', 'ENTJ', 'ENFJ', 'INFP', 'ENFP',\n",
    "       'ISFP', 'ISTP', 'ISFJ', 'ISTJ', 'ESTP', 'ESFP', 'ESTJ', 'ESFJ']\n",
    "unique_type_list = [x.lower() for x in unique_type_list]\n",
    "def pre_process_text(data, remove_stop_words=True, remove_mbti_profiles=True):\n",
    "  list_personality = []\n",
    "  list_posts = []\n",
    "  len_data = len(data)\n",
    "\n",
    "\n",
    "  i=0\n",
    "  \n",
    "  for row in data.iterrows():\n",
    "      # check code working \n",
    "      # i+=1\n",
    "      # if (i % 500 == 0 or i == 1 or i == len_data):\n",
    "      #     print(\"%s of %s rows\" % (i, len_data))\n",
    "\n",
    "      #Remove and clean comments\n",
    "      posts = row[1].posts\n",
    "\n",
    "      #Remove url links \n",
    "      temp = re.sub('http[s]?://(?:[a-zA-Z]|[0-9]|[$-_@.&+]|(?:%[0-9a-fA-F][0-9a-fA-F]))+', ' ', posts)\n",
    "\n",
    "      #Remove Non-words - keep only words\n",
    "      temp = re.sub(\"[^a-zA-Z]\", \" \", temp)\n",
    "\n",
    "      # Remove spaces > 1\n",
    "      temp = re.sub(' +', ' ', temp).lower()\n",
    "\n",
    "      #Remove multiple letter repeating words\n",
    "      temp = re.sub(r'([a-z])\\1{2,}[\\s|\\w]*', '', temp)\n",
    "\n",
    "      #Remove stop words\n",
    "      if remove_stop_words:\n",
    "          temp = \" \".join([lemmatiser.lemmatize(w) for w in temp.split(' ') if w not in useless_words])\n",
    "      else:\n",
    "          temp = \" \".join([lemmatiser.lemmatize(w) for w in temp.split(' ')])\n",
    "          \n",
    "      #Remove MBTI personality words from posts\n",
    "      if remove_mbti_profiles:\n",
    "          for t in unique_type_list:\n",
    "              temp = temp.replace(t,\"\")\n",
    "\n",
    "      # transform mbti to binary vector\n",
    "      type_labelized = translate_personality(row[1].type) #or use lab_encoder.transform([row[1].type])[0]\n",
    "      list_personality.append(type_labelized)\n",
    "      # the cleaned data temp is passed here\n",
    "      list_posts.append(temp)\n",
    "\n",
    "  # returns the result\n",
    "  list_posts = np.array(list_posts)\n",
    "  list_personality = np.array(list_personality)\n",
    "  return list_posts, list_personality\n",
    "\n",
    "list_posts, list_personality  = pre_process_text(data, remove_stop_words=True, remove_mbti_profiles=True)\n",
    "\n",
    "print(\"Example :\")\n",
    "print(\"\\nPost before preprocessing:\\n\\n\", data.posts[0])\n",
    "print(\"\\nPost after preprocessing:\\n\\n\", list_posts[0])\n",
    "print(\"\\nMBTI before preprocessing:\\n\\n\", data.type[0])\n",
    "print(\"\\nMBTI after preprocessing:\\n\\n\", list_personality[0])"
   ]
  },
  {
   "cell_type": "code",
   "execution_count": 52,
   "id": "d9351971",
   "metadata": {},
   "outputs": [
    {
     "name": "stdout",
     "output_type": "stream",
     "text": [
      "No. of posts = 8466  and No. of Personalities = 4 \n"
     ]
    }
   ],
   "source": [
    "nRow, nCol = list_personality.shape\n",
    "print(f'No. of posts = {nRow}  and No. of Personalities = {nCol} ')"
   ]
  },
  {
   "cell_type": "markdown",
   "id": "dad33796",
   "metadata": {},
   "source": [
    "#### Feature Engineering\n",
    "For our model we vectorize using count vectorizer and tf-idf vectorizer keeping the words appearing btw 10% to 70% of the posts."
   ]
  },
  {
   "cell_type": "code",
   "execution_count": 53,
   "id": "f6ed8968",
   "metadata": {},
   "outputs": [
    {
     "name": "stdout",
     "output_type": "stream",
     "text": [
      "Using CountVectorizer :\n",
      "10 feature names can be seen below\n",
      "[(0, 'ability'), (1, 'able'), (2, 'absolutely'), (3, 'across'), (4, 'action'), (5, 'actually'), (6, 'advice'), (7, 'afraid'), (8, 'agree'), (9, 'almost')]\n",
      "\n",
      "Using Tf-idf :\n",
      "Now the dataset size is as below\n",
      "(8466, 550)\n"
     ]
    }
   ],
   "source": [
    "# Vectorizing the database posts to a matrix of token counts for the model\n",
    "cntizer = CountVectorizer(analyzer=\"word\", \n",
    "                             max_features=1000,  \n",
    "                             max_df=0.7,\n",
    "                             min_df=0.1) \n",
    "# the feature should be made of word n-gram \n",
    "# Learn the vocabulary dictionary and return term-document matrix\n",
    "print(\"Using CountVectorizer :\")\n",
    "X_cnt = cntizer.fit_transform(list_posts)\n",
    "\n",
    "#The enumerate object yields pairs containing a count and a value (useful for obtaining an indexed list)\n",
    "feature_names = list(enumerate(cntizer.get_feature_names_out()))\n",
    "print(\"10 feature names can be seen below\")\n",
    "print(feature_names[0:10])\n",
    "\n",
    "# For the Standardization or Feature Scaling Stage :-\n",
    "# Transform the count matrix to a normalized tf or tf-idf representation\n",
    "tfizer = TfidfTransformer()\n",
    "\n",
    "# Learn the idf vector (fit) and transform a count matrix to a tf-idf representation\n",
    "print(\"\\nUsing Tf-idf :\")\n",
    "\n",
    "print(\"Now the dataset size is as below\")\n",
    "X_tfidf =  tfizer.fit_transform(X_cnt).toarray()\n",
    "print(X_tfidf.shape)"
   ]
  },
  {
   "cell_type": "markdown",
   "id": "0a89c05f",
   "metadata": {},
   "source": [
    "* Therefore we now have 550 features for each user post."
   ]
  },
  {
   "cell_type": "code",
   "execution_count": 54,
   "id": "4107ac45",
   "metadata": {},
   "outputs": [
    {
     "name": "stdout",
     "output_type": "stream",
     "text": [
      "IE: Introversion (I) / Extroversion (E)\n",
      "NS: Intuition (N) / Sensing (S)\n",
      "FT: Feeling (F) / Thinking (T)\n",
      "JP: Judging (J) / Perceiving (P)\n"
     ]
    }
   ],
   "source": [
    "# Splitting into X and Y variable\n",
    "# X: User Posts in TF-IDF representation\n",
    "# Y: Personality type in Binarized MBTI form\n",
    "personality_type = [ \"IE: Introversion (I) / Extroversion (E)\", \"NS: Intuition (N) / Sensing (S)\", \n",
    "                   \"FT: Feeling (F) / Thinking (T)\", \"JP: Judging (J) / Perceiving (P)\"  ]\n",
    "\n",
    "for l in range(len(personality_type)):\n",
    "    print(personality_type[l])"
   ]
  },
  {
   "cell_type": "code",
   "execution_count": 55,
   "id": "a4663b2f",
   "metadata": {},
   "outputs": [
    {
     "name": "stdout",
     "output_type": "stream",
     "text": [
      "X: 1st posts in tf-idf representation\n",
      "[0.         0.         0.         0.         0.         0.\n",
      " 0.         0.         0.         0.         0.         0.\n",
      " 0.         0.         0.         0.04783275 0.         0.\n",
      " 0.         0.         0.         0.         0.         0.\n",
      " 0.         0.         0.         0.         0.05656561 0.\n",
      " 0.         0.         0.         0.         0.         0.\n",
      " 0.         0.         0.09298196 0.         0.         0.\n",
      " 0.         0.         0.05851738 0.         0.         0.\n",
      " 0.         0.         0.         0.         0.         0.\n",
      " 0.         0.         0.         0.         0.         0.\n",
      " 0.         0.         0.         0.         0.         0.\n",
      " 0.         0.         0.         0.17762939 0.         0.\n",
      " 0.10309241 0.         0.         0.05283347 0.         0.\n",
      " 0.         0.         0.07867578 0.         0.         0.\n",
      " 0.         0.         0.         0.07959539 0.08203474 0.09769046\n",
      " 0.         0.         0.         0.         0.         0.\n",
      " 0.         0.         0.         0.         0.         0.\n",
      " 0.10114317 0.         0.         0.         0.         0.\n",
      " 0.         0.         0.         0.         0.         0.\n",
      " 0.         0.         0.         0.         0.         0.\n",
      " 0.         0.         0.         0.         0.         0.\n",
      " 0.         0.         0.         0.         0.07521117 0.\n",
      " 0.         0.         0.04662986 0.         0.0625915  0.1281533\n",
      " 0.         0.         0.         0.         0.13279521 0.\n",
      " 0.         0.         0.         0.         0.         0.\n",
      " 0.16931084 0.         0.         0.         0.         0.\n",
      " 0.08980687 0.         0.         0.         0.         0.\n",
      " 0.         0.         0.         0.         0.         0.\n",
      " 0.         0.         0.04751245 0.         0.07535682 0.\n",
      " 0.         0.31290271 0.         0.         0.         0.\n",
      " 0.         0.         0.         0.19346529 0.         0.\n",
      " 0.         0.         0.13327124 0.         0.         0.\n",
      " 0.         0.         0.         0.         0.         0.\n",
      " 0.         0.         0.06232782 0.         0.07500837 0.\n",
      " 0.08532553 0.09008288 0.         0.         0.09739304 0.\n",
      " 0.         0.14515193 0.         0.         0.         0.\n",
      " 0.         0.         0.         0.         0.         0.\n",
      " 0.         0.06000218 0.         0.         0.         0.\n",
      " 0.         0.         0.         0.         0.         0.\n",
      " 0.         0.         0.         0.         0.         0.\n",
      " 0.         0.05911892 0.         0.         0.         0.\n",
      " 0.         0.         0.06516298 0.10117579 0.         0.\n",
      " 0.         0.         0.         0.         0.08475309 0.09955288\n",
      " 0.         0.06783139 0.         0.18652259 0.         0.\n",
      " 0.09525822 0.         0.         0.08542527 0.         0.\n",
      " 0.         0.         0.         0.         0.07332076 0.\n",
      " 0.         0.         0.         0.         0.         0.\n",
      " 0.         0.         0.         0.10443687 0.         0.\n",
      " 0.         0.05585828 0.         0.05822507 0.         0.05302941\n",
      " 0.         0.         0.         0.         0.         0.\n",
      " 0.         0.10120845 0.16374675 0.         0.         0.\n",
      " 0.         0.         0.09387933 0.08274354 0.07657672 0.\n",
      " 0.         0.10531598 0.         0.         0.         0.\n",
      " 0.08740292 0.         0.         0.         0.10298863 0.06800504\n",
      " 0.         0.         0.         0.         0.         0.\n",
      " 0.         0.         0.         0.         0.         0.\n",
      " 0.         0.         0.         0.         0.         0.12856544\n",
      " 0.         0.         0.         0.         0.         0.10289186\n",
      " 0.         0.         0.         0.         0.         0.\n",
      " 0.         0.         0.         0.0794458  0.         0.\n",
      " 0.         0.         0.         0.09605773 0.         0.\n",
      " 0.         0.         0.         0.         0.         0.\n",
      " 0.         0.         0.         0.         0.         0.\n",
      " 0.         0.         0.         0.         0.06333552 0.\n",
      " 0.         0.06264057 0.         0.         0.         0.\n",
      " 0.10291963 0.         0.05120435 0.         0.09586352 0.\n",
      " 0.         0.         0.         0.06772764 0.         0.\n",
      " 0.         0.         0.         0.         0.         0.\n",
      " 0.         0.         0.         0.08848334 0.         0.\n",
      " 0.         0.         0.         0.         0.         0.\n",
      " 0.         0.         0.         0.         0.         0.\n",
      " 0.         0.07470656 0.10203586 0.0490439  0.09041395 0.\n",
      " 0.         0.         0.07238911 0.07976241 0.         0.\n",
      " 0.         0.10513084 0.         0.         0.         0.06913925\n",
      " 0.         0.         0.         0.         0.         0.\n",
      " 0.         0.         0.         0.07321134 0.         0.\n",
      " 0.         0.         0.         0.         0.         0.\n",
      " 0.         0.08625503 0.         0.         0.         0.\n",
      " 0.         0.         0.         0.         0.         0.\n",
      " 0.         0.06815631 0.         0.         0.         0.04971955\n",
      " 0.05733879 0.09393138 0.16317697 0.         0.         0.\n",
      " 0.         0.         0.         0.         0.         0.\n",
      " 0.         0.         0.         0.         0.         0.\n",
      " 0.         0.14209706 0.         0.         0.         0.\n",
      " 0.0880468  0.         0.         0.25603637 0.         0.09836496\n",
      " 0.         0.04469206 0.         0.         0.         0.09303256\n",
      " 0.         0.         0.         0.17561842 0.         0.\n",
      " 0.         0.         0.         0.         0.07682025 0.\n",
      " 0.         0.         0.         0.         0.         0.\n",
      " 0.         0.         0.12251323 0.10021123 0.         0.\n",
      " 0.         0.         0.         0.         0.05141823 0.\n",
      " 0.         0.         0.05278287 0.0877662 ]\n"
     ]
    }
   ],
   "source": [
    "print(\"X: 1st posts in tf-idf representation\\n%s\" % X_tfidf[0])"
   ]
  },
  {
   "cell_type": "markdown",
   "id": "ab007beb",
   "metadata": {},
   "source": [
    "#### Training & Evaluating Models"
   ]
  },
  {
   "cell_type": "code",
   "execution_count": 56,
   "id": "c58f0430",
   "metadata": {},
   "outputs": [],
   "source": [
    "# Posts in tf-idf representation\n",
    "X = X_tfidf"
   ]
  },
  {
   "cell_type": "code",
   "execution_count": 57,
   "id": "18dd2f81",
   "metadata": {},
   "outputs": [
    {
     "name": "stdout",
     "output_type": "stream",
     "text": [
      "IE: Introversion (I) / Extroversion (E) Accuracy: 76.77%\n",
      "NS: Intuition (N) / Sensing (S) Accuracy: 85.47%\n",
      "FT: Feeling (F) / Thinking (T) Accuracy: 69.79%\n",
      "JP: Judging (J) / Perceiving (P) Accuracy: 59.84%\n"
     ]
    }
   ],
   "source": [
    "#Random Forest model for MBTI dataset\n",
    "# Individually training each mbti personlity type\n",
    "for l in range(len(personality_type)):\n",
    "    \n",
    "    Y = list_personality[:,l]\n",
    "\n",
    "    # split data into train and test sets\n",
    "    X_train, X_test, y_train, y_test = train_test_split(X, Y, test_size=0.33, random_state=7)\n",
    "\n",
    "    # fit model on training data\n",
    "    model = RandomForestClassifier()\n",
    "    model.fit(X_train, y_train)\n",
    "\n",
    "    # make predictions for test data\n",
    "    y_pred = model.predict(X_test)\n",
    "    \n",
    "    predictions = [round(value) for value in y_pred]\n",
    "    # evaluate predictions\n",
    "    accuracy = accuracy_score(y_test, predictions)\n",
    "    \n",
    "    print(\"%s Accuracy: %.2f%%\" % (personality_type[l], accuracy * 100.0))"
   ]
  },
  {
   "cell_type": "code",
   "execution_count": 58,
   "id": "59a21377",
   "metadata": {},
   "outputs": [
    {
     "name": "stdout",
     "output_type": "stream",
     "text": [
      "IE: Introversion (I) / Extroversion (E) Accuracy: 75.48%\n",
      "NS: Intuition (N) / Sensing (S) Accuracy: 84.97%\n",
      "FT: Feeling (F) / Thinking (T) Accuracy: 69.58%\n",
      "JP: Judging (J) / Perceiving (P) Accuracy: 59.77%\n"
     ]
    }
   ],
   "source": [
    "#XGBoost model for MBTI dataset \n",
    "# Individually training each mbti personlity type\n",
    "for l in range(len(personality_type)):\n",
    "    \n",
    "    Y = list_personality[:,l]\n",
    "\n",
    "    # split data into train and test sets\n",
    "    X_train, X_test, y_train, y_test = train_test_split(X, Y, test_size=0.33, random_state=7)\n",
    "\n",
    "    # fit model on training data\n",
    "    model = XGBClassifier()\n",
    "    model.fit(X_train, y_train)\n",
    "\n",
    "    # make predictions for test data\n",
    "    y_pred = model.predict(X_test)\n",
    "    predictions = [round(value) for value in y_pred]\n",
    "    # evaluate predictions\n",
    "    accuracy = accuracy_score(y_test, predictions)\n",
    "    \n",
    "    print(\"%s Accuracy: %.2f%%\" % (personality_type[l], accuracy * 100.0))"
   ]
  },
  {
   "cell_type": "code",
   "execution_count": 59,
   "id": "7f2827bd",
   "metadata": {},
   "outputs": [
    {
     "name": "stdout",
     "output_type": "stream",
     "text": [
      "IE: Introversion (I) / Extroversion (E) Accuracy: 76.45%\n",
      "NS: Intuition (N) / Sensing (S) Accuracy: 85.43%\n",
      "FT: Feeling (F) / Thinking (T) Accuracy: 72.19%\n",
      "JP: Judging (J) / Perceiving (P) Accuracy: 61.52%\n"
     ]
    }
   ],
   "source": [
    "# Logistic Regression for MBTI dataset\n",
    "# Individually training each mbti personlity type\n",
    "for l in range(len(personality_type)):\n",
    "\n",
    "    Y = list_personality[:,l]\n",
    "\n",
    "    # split data into train and test sets\n",
    "    X_train, X_test, y_train, y_test = train_test_split(X, Y, test_size=0.33, random_state=7)\n",
    "\n",
    "    # fit model on training data\n",
    "    model = LogisticRegression() \n",
    "    model.fit(X_train, y_train)\n",
    "\n",
    "    # make predictions for test data\n",
    "    y_pred = model.predict(X_test)\n",
    "    \n",
    "    predictions = [round(value) for value in y_pred]\n",
    "    # evaluate predictions\n",
    "    accuracy = accuracy_score(y_test, predictions)\n",
    "    \n",
    "    print(\"%s Accuracy: %.2f%%\" % (personality_type[l], accuracy * 100.0))"
   ]
  },
  {
   "cell_type": "markdown",
   "id": "020c416a",
   "metadata": {},
   "source": [
    "* Out of all the models, seen above we see that on an average Random Forest model gives relatively good performance"
   ]
  },
  {
   "cell_type": "markdown",
   "id": "5827c0e8",
   "metadata": {},
   "source": [
    "### Now test some sample personality prediction using Random Forest model\n",
    "#### Personality Prediction 1 - a poem \n",
    "\"Bird-Understander\" by Craig Arnold"
   ]
  },
  {
   "cell_type": "code",
   "execution_count": 60,
   "id": "c7f43a0b",
   "metadata": {},
   "outputs": [],
   "source": [
    "my_posts = \"\"\" These are your own words\n",
    "your way of noticing\n",
    "and saying plainly\n",
    "of not turning away\n",
    "from hurt\n",
    "\n",
    "you have offered them \n",
    "to me    I am only \n",
    "giving them back \n",
    "\n",
    "if only I could show you\n",
    "how very useless \n",
    "they are not\"\"\"\n",
    "mydata = pd.DataFrame(data={'type': ['INFP'], 'posts': [my_posts]})\n",
    "my_posts, dummy  = pre_process_text(mydata, remove_stop_words=True, remove_mbti_profiles=True)\n",
    "my_X_cnt = cntizer.transform(my_posts)\n",
    "my_X_tfidf =  tfizer.transform(my_X_cnt).toarray()"
   ]
  },
  {
   "cell_type": "code",
   "execution_count": 61,
   "id": "e9383f37",
   "metadata": {},
   "outputs": [
    {
     "name": "stdout",
     "output_type": "stream",
     "text": [
      "The result is:  INFJ\n"
     ]
    }
   ],
   "source": [
    "#Random Forest model for MBTI dataset\n",
    "# Individually training each mbti personlity type\n",
    "result = []\n",
    "for l in range(len(personality_type)):\n",
    "    \n",
    "    Y = list_personality[:,l]\n",
    "\n",
    "    # split data into train and test sets\n",
    "    X_train, X_test, y_train, y_test = train_test_split(X, Y, test_size=0.33, random_state=7)\n",
    "\n",
    "    # fit model on training data\n",
    "    model = RandomForestClassifier()\n",
    "    model.fit(X_train, y_train)\n",
    "\n",
    "    # make predictions for test data\n",
    "    y_pred = model.predict(my_X_tfidf)\n",
    "    result.append(y_pred[0])\n",
    "print(\"The result is: \", translate_back(result))"
   ]
  },
  {
   "cell_type": "markdown",
   "id": "7e73dc81",
   "metadata": {},
   "source": [
    "#### Pesonality Prediction 2 - short essay"
   ]
  },
  {
   "cell_type": "code",
   "execution_count": 62,
   "id": "b9db071c",
   "metadata": {},
   "outputs": [],
   "source": [
    "my_posts  = \"\"\"For many years, I have been interested in studying international relations. My interest in pursuing this field stems from several factors which have affected me. First, I have been exposed to international affairs throughout my life. With my father and two of my brothers in the Saudi Foreign Service, I have grown up under the shadow of inter-national affairs. Second, I am fascinated by history, economics, and diplomacy. I believe, through the study of international relations, I can effectively satisfy my curiosity in these fields. A third factor which has affected my interest in international relations is patriotism. Through the Foreign Service, I would not only have the opportunity to serve my country, but also have the chance to help bridge gaps between my country and others. Finally, as a Saudi living abroad, I have been bridging cultures throughout my life. This experience has taught me to look for differences to compromise and similarities to synthesize in order to balance different cultures. In short, I believe that my experiences in life, combined with a rigorous academic education, will enable me to pursue a successful career in the Saudi Foreign Service.\"\"\"\n",
    "mydata = pd.DataFrame(data={'type': ['ENTP'], 'posts': [my_posts]})\n",
    "my_posts, dummy  = pre_process_text(mydata, remove_stop_words=True, remove_mbti_profiles=True)\n",
    "my_X_cnt = cntizer.transform(my_posts)\n",
    "my_X_tfidf =  tfizer.transform(my_X_cnt).toarray()"
   ]
  },
  {
   "cell_type": "code",
   "execution_count": 63,
   "id": "3e3feb66",
   "metadata": {},
   "outputs": [
    {
     "name": "stdout",
     "output_type": "stream",
     "text": [
      "The result is:  INTP\n"
     ]
    }
   ],
   "source": [
    "# make predictions for test data\n",
    "result = []\n",
    "for l in range(len(personality_type)):\n",
    "    \n",
    "    Y = list_personality[:,l]\n",
    "\n",
    "    # split data into train and test sets\n",
    "    X_train, X_test, y_train, y_test = train_test_split(X, Y, test_size=0.33, random_state=7)\n",
    "\n",
    "    # fit model on training data\n",
    "    model = RandomForestClassifier()\n",
    "    model.fit(X_train, y_train)\n",
    "\n",
    "    # make predictions for test data\n",
    "    y_pred = model.predict(my_X_tfidf)\n",
    "    result.append(y_pred[0])\n",
    "print(\"The result is: \", translate_back(result))"
   ]
  },
  {
   "cell_type": "markdown",
   "id": "18b5065a",
   "metadata": {},
   "source": [
    "#### Personality Prediction 3 - Job application cover letter"
   ]
  },
  {
   "cell_type": "code",
   "execution_count": 64,
   "id": "9495df28",
   "metadata": {},
   "outputs": [],
   "source": [
    "\n",
    "\n",
    "my_posts  = \"\"\"Dear Mr. Hennessy, My name is John Young, and I’m applying for a software engineering position at your company. I’m excited about your organization’s mission to change the world, and I’m passionate about your tech stack that includes Scala, Java, React, and Python, all languages I’ve used in the past. \n",
    "\n",
    "Recently, I took a year-long hiatus to aid my friend who launched a startup accelerator. During that time, I learned quite a bit about business strategy and going from zero to one hundred while working on a very limited budget. I’m confident that I can turn those skills into new products for your company. \n",
    "\n",
    "I’m prepared to get back into the game and restart my career as a software engineer in your beautiful city. I’m positive that I’m the perfect person to lead your middle-out engineering team. I would love to schedule a meeting and discuss this further. \"\"\"\n",
    "mydata = pd.DataFrame(data={'type': ['ENTP'], 'posts': [my_posts]})\n",
    "my_posts, dummy  = pre_process_text(mydata, remove_stop_words=True, remove_mbti_profiles=True)\n",
    "my_X_cnt = cntizer.transform(my_posts)\n",
    "my_X_tfidf =  tfizer.transform(my_X_cnt).toarray()"
   ]
  },
  {
   "cell_type": "code",
   "execution_count": 65,
   "id": "ee2bb71a",
   "metadata": {},
   "outputs": [
    {
     "name": "stdout",
     "output_type": "stream",
     "text": [
      "The result is:  INFP\n"
     ]
    }
   ],
   "source": [
    "# make predictions for test data\n",
    "result = []\n",
    "for l in range(len(personality_type)):\n",
    "    \n",
    "    Y = list_personality[:,l]\n",
    "\n",
    "    # split data into train and test sets\n",
    "    X_train, X_test, y_train, y_test = train_test_split(X, Y, test_size=0.33, random_state=7)\n",
    "\n",
    "    # fit model on training data\n",
    "    model = RandomForestClassifier()\n",
    "    model.fit(X_train, y_train)\n",
    "\n",
    "    # make predictions for test data\n",
    "    y_pred = model.predict(my_X_tfidf)\n",
    "    result.append(y_pred[0])\n",
    "print(\"The result is: \", translate_back(result))"
   ]
  },
  {
   "cell_type": "code",
   "execution_count": null,
   "id": "d9275a76",
   "metadata": {},
   "outputs": [],
   "source": []
  },
  {
   "cell_type": "code",
   "execution_count": null,
   "id": "b5945200",
   "metadata": {},
   "outputs": [],
   "source": []
  }
 ],
 "metadata": {
  "kernelspec": {
   "display_name": "Python 3 (ipykernel)",
   "language": "python",
   "name": "python3"
  },
  "language_info": {
   "codemirror_mode": {
    "name": "ipython",
    "version": 3
   },
   "file_extension": ".py",
   "mimetype": "text/x-python",
   "name": "python",
   "nbconvert_exporter": "python",
   "pygments_lexer": "ipython3",
   "version": "3.11.5"
  }
 },
 "nbformat": 4,
 "nbformat_minor": 5
}
